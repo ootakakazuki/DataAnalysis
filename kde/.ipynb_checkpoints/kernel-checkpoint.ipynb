{
 "cells": [
  {
   "cell_type": "code",
   "execution_count": 20,
   "id": "bcc019f1",
   "metadata": {},
   "outputs": [],
   "source": [
    "# 目的\n",
    "# データセット内にある特定の動物の生息地帯を描画する\n",
    "\n",
    "\"\"\"\n",
    "使う技術\n",
    "カーネル密度推定\n",
    "\n",
    "使うライブラリ\n",
    "Basemap(地図描写用のライブラリ)\n",
    "\n",
    "使うデータセット\n",
    "scikit learn内のfetch_species_distributions\n",
    "\"\"\""
   ]
  },
  {
   "cell_type": "code",
   "execution_count": null,
   "id": "e29b9497",
   "metadata": {},
   "outputs": [],
   "source": []
  },
  {
   "cell_type": "code",
   "execution_count": null,
   "id": "1fe50024",
   "metadata": {},
   "outputs": [],
   "source": [
    "from sklearn.datasets import fetch_species_distributions\n",
    "\n",
    "import pandas as pd\n",
    "import numpy as np\n",
    "import matplotlib.pyplot as plt\n",
    "%matplotlib inline\n",
    "from mpl_toolkits.basemap import Basemap\n",
    "\n",
    "from sklearn.neighbors import KernelDensity\n"
   ]
  },
  {
   "cell_type": "code",
   "execution_count": null,
   "id": "b184c902",
   "metadata": {},
   "outputs": [],
   "source": [
    "#データセットfetch_species_distributionsは下記のscikit learn公式サイトを見ながら\n",
    "#https://scikit-learn.org/stable/modules/generated/sklearn.datasets.fetch_species_distributions.html\n",
    "\n",
    "\n",
    "dataBunch\n",
    "Dictionary-like object, with the following attributes.\n",
    "\n",
    "coverages:array, shape = [14, 1592, 1212]\n",
    "These represent the 14 features measured at each point of the map grid. \n",
    "The latitude/longitude values for the grid are discussed below. \n",
    "Missing data is represented by the value -9999.　# 欠損データは-9999で表示\n",
    "\n",
    "trainrecord array, shape = (1624,) # trainレコードは1624個\n",
    "The training points for the data. Each point has three fields:　#3つの変数\n",
    "\n",
    "train[‘species’] is the species name　\n",
    "\n",
    "train[‘dd long’] is the longitude, in degrees　# 経度\n",
    "\n",
    "train[‘dd lat’] is the latitude, in degrees　# 緯度\n",
    "\n",
    "testrecord array, shape = (620,)\n",
    "The test points for the data. Same format as the training data.\n",
    "\n",
    "Nx, Ny　　integers\n",
    "The number of longitudes (x) and latitudes (y) in the grid\n",
    "\n",
    "x_left_lower_corner, y_left_lower_cornerfloats\n",
    "The (x,y) position of the lower-left corner, in degrees #左下隅の (x,y) 位置 (度単位)\n",
    "\n",
    "grid_sizefloat\n",
    "The spacing between points of the grid, in degrees\n"
   ]
  },
  {
   "cell_type": "code",
   "execution_count": null,
   "id": "7ca97598",
   "metadata": {},
   "outputs": [],
   "source": []
  },
  {
   "cell_type": "code",
   "execution_count": 278,
   "id": "37d608bd",
   "metadata": {
    "scrolled": true
   },
   "outputs": [],
   "source": [
    "df =  fetch_species_distributions()"
   ]
  },
  {
   "cell_type": "code",
   "execution_count": null,
   "id": "a253ac33",
   "metadata": {},
   "outputs": [],
   "source": []
  },
  {
   "cell_type": "code",
   "execution_count": 279,
   "id": "22c896fb",
   "metadata": {},
   "outputs": [
    {
     "data": {
      "text/plain": [
       "{'coverages': array([[[ -128,  -128,  -128, ...,  -128,  -128,  -128],\n",
       "         [ -128,  -128,  -128, ...,  -128,  -128,  -128],\n",
       "         [ -128,  -128,  -128, ...,  -128,  -128,  -128],\n",
       "         ...,\n",
       "         [ -128,  -128,  -128, ...,  -128,  -128,  -128],\n",
       "         [ -128,  -128,  -128, ...,  -128,  -128,  -128],\n",
       "         [ -128,  -128,  -128, ...,  -128,  -128,  -128]],\n",
       " \n",
       "        [[-9999, -9999, -9999, ..., -9999, -9999, -9999],\n",
       "         [-9999, -9999, -9999, ..., -9999, -9999, -9999],\n",
       "         [-9999, -9999, -9999, ..., -9999, -9999, -9999],\n",
       "         ...,\n",
       "         [-9999, -9999, -9999, ..., -9999, -9999, -9999],\n",
       "         [-9999, -9999, -9999, ..., -9999, -9999, -9999],\n",
       "         [-9999, -9999, -9999, ..., -9999, -9999, -9999]],\n",
       " \n",
       "        [[ -128,  -128,  -128, ...,  -128,  -128,  -128],\n",
       "         [ -128,  -128,  -128, ...,  -128,  -128,  -128],\n",
       "         [ -128,  -128,  -128, ...,  -128,  -128,  -128],\n",
       "         ...,\n",
       "         [ -128,  -128,  -128, ...,  -128,  -128,  -128],\n",
       "         [ -128,  -128,  -128, ...,  -128,  -128,  -128],\n",
       "         [ -128,  -128,  -128, ...,  -128,  -128,  -128]],\n",
       " \n",
       "        ...,\n",
       " \n",
       "        [[-9999, -9999, -9999, ..., -9999, -9999, -9999],\n",
       "         [-9999, -9999, -9999, ..., -9999, -9999, -9999],\n",
       "         [-9999, -9999, -9999, ..., -9999, -9999, -9999],\n",
       "         ...,\n",
       "         [-9999, -9999, -9999, ..., -9999, -9999, -9999],\n",
       "         [-9999, -9999, -9999, ..., -9999, -9999, -9999],\n",
       "         [-9999, -9999, -9999, ..., -9999, -9999, -9999]],\n",
       " \n",
       "        [[-9999, -9999, -9999, ..., -9999, -9999, -9999],\n",
       "         [-9999, -9999, -9999, ..., -9999, -9999, -9999],\n",
       "         [-9999, -9999, -9999, ..., -9999, -9999, -9999],\n",
       "         ...,\n",
       "         [-9999, -9999, -9999, ..., -9999, -9999, -9999],\n",
       "         [-9999, -9999, -9999, ..., -9999, -9999, -9999],\n",
       "         [-9999, -9999, -9999, ..., -9999, -9999, -9999]],\n",
       " \n",
       "        [[-9999, -9999, -9999, ..., -9999, -9999, -9999],\n",
       "         [-9999, -9999, -9999, ..., -9999, -9999, -9999],\n",
       "         [-9999, -9999, -9999, ..., -9999, -9999, -9999],\n",
       "         ...,\n",
       "         [-9999, -9999, -9999, ..., -9999, -9999, -9999],\n",
       "         [-9999, -9999, -9999, ..., -9999, -9999, -9999],\n",
       "         [-9999, -9999, -9999, ..., -9999, -9999, -9999]]], dtype=int16),\n",
       " 'test': array([(b'bradypus_variegatus_0', -65.3833, -10.3833  ),\n",
       "        (b'bradypus_variegatus_0', -63.6667, -17.45    ),\n",
       "        (b'bradypus_variegatus_0', -64.4167, -16.      ),\n",
       "        (b'bradypus_variegatus_0', -52.6667,  -3.8333  ),\n",
       "        (b'bradypus_variegatus_0', -55.55  ,  -1.9167  ),\n",
       "        (b'bradypus_variegatus_0', -55.2833,  -3.45    ),\n",
       "        (b'bradypus_variegatus_0', -49.5   ,  -2.25    ),\n",
       "        (b'bradypus_variegatus_0', -46.7333, -23.45    ),\n",
       "        (b'bradypus_variegatus_0', -76.2667,   7.0167  ),\n",
       "        (b'bradypus_variegatus_0', -76.7167,   8.1     ),\n",
       "        (b'bradypus_variegatus_0', -75.05  ,   7.35    ),\n",
       "        (b'bradypus_variegatus_0', -74.    ,  10.3     ),\n",
       "        (b'bradypus_variegatus_0', -77.7667,   7.1167  ),\n",
       "        (b'bradypus_variegatus_0', -76.6667,   5.7     ),\n",
       "        (b'bradypus_variegatus_0', -75.6833,   8.2833  ),\n",
       "        (b'bradypus_variegatus_0', -74.7333,   9.1167  ),\n",
       "        (b'bradypus_variegatus_0', -74.3   ,   4.5833  ),\n",
       "        (b'bradypus_variegatus_0', -73.6167,   4.15    ),\n",
       "        (b'bradypus_variegatus_0', -72.5167,   7.9     ),\n",
       "        (b'bradypus_variegatus_0', -73.9167,   7.1667  ),\n",
       "        (b'bradypus_variegatus_0', -76.9333,   4.      ),\n",
       "        (b'bradypus_variegatus_0', -83.4667,   8.95    ),\n",
       "        (b'bradypus_variegatus_0', -79.4667,   0.3333  ),\n",
       "        (b'bradypus_variegatus_0', -79.75  ,  -1.5333  ),\n",
       "        (b'bradypus_variegatus_0', -85.9333,  13.1833  ),\n",
       "        (b'bradypus_variegatus_0', -81.8   ,   8.9333  ),\n",
       "        (b'bradypus_variegatus_0', -82.25  ,   9.1833  ),\n",
       "        (b'bradypus_variegatus_0', -79.8167,   9.1667  ),\n",
       "        (b'bradypus_variegatus_0', -79.9333,   9.25    ),\n",
       "        (b'bradypus_variegatus_0', -77.3   ,   8.1667  ),\n",
       "        (b'bradypus_variegatus_0', -79.5833,   8.95    ),\n",
       "        (b'bradypus_variegatus_0', -79.35  ,   9.2333  ),\n",
       "        (b'bradypus_variegatus_0', -79.6   ,   8.9     ),\n",
       "        (b'bradypus_variegatus_0', -72.1   ,  -3.3167  ),\n",
       "        (b'bradypus_variegatus_0', -76.05  ,  -5.8333  ),\n",
       "        (b'microryzomys_minutus_0', -72.5   , -13.1667  ),\n",
       "        (b'microryzomys_minutus_0', -72.5667, -13.1167  ),\n",
       "        (b'microryzomys_minutus_0', -75.8667, -10.4667  ),\n",
       "        (b'microryzomys_minutus_0', -77.55  ,  -6.18333 ),\n",
       "        (b'microryzomys_minutus_0', -78.9833,  -2.28333 ),\n",
       "        (b'microryzomys_minutus_0', -78.4333,  -1.45    ),\n",
       "        (b'microryzomys_minutus_0', -77.8833,  -0.45    ),\n",
       "        (b'microryzomys_minutus_0', -78.4   ,  -0.21667 ),\n",
       "        (b'microryzomys_minutus_0', -78.6   ,  -0.1     ),\n",
       "        (b'microryzomys_minutus_0', -76.6   ,   1.916667),\n",
       "        (b'microryzomys_minutus_0', -76.5667,   1.95    ),\n",
       "        (b'microryzomys_minutus_0', -76.95  ,   2.533333),\n",
       "        (b'microryzomys_minutus_0', -77.2   ,   2.666667),\n",
       "        (b'microryzomys_minutus_0', -75.3667,   4.433333),\n",
       "        (b'microryzomys_minutus_0', -75.5667,   4.633333),\n",
       "        (b'microryzomys_minutus_0', -74.6333,   4.85    ),\n",
       "        (b'microryzomys_minutus_0', -75.55  ,   6.166667),\n",
       "        (b'microryzomys_minutus_0', -76.0667,   6.466667),\n",
       "        (b'microryzomys_minutus_0', -71.4   ,   8.6     ),\n",
       "        (b'microryzomys_minutus_0', -71.35  ,   8.633333),\n",
       "        (b'microryzomys_minutus_0', -63.5333,  10.2     ),\n",
       "        (b'microryzomys_minutus_0', -73.65  ,  10.71667 ),\n",
       "        (b'microryzomys_minutus_0', -79.0167,  -3.41667 ),\n",
       "        (b'microryzomys_minutus_0', -78.5   ,  -1.3     ),\n",
       "        (b'microryzomys_minutus_0', -78.1333,  -0.36667 ),\n",
       "        (b'microryzomys_minutus_0', -77.8167,   0.6     ),\n",
       "        (b'microryzomys_minutus_0', -75.3833,   4.96667 ),\n",
       "        (b'bradypus_variegatus_1', -65.4   , -10.3833  ),\n",
       "        (b'bradypus_variegatus_1', -65.1333, -16.8     ),\n",
       "        (b'bradypus_variegatus_1', -64.8333,  -0.5167  ),\n",
       "        (b'bradypus_variegatus_1', -60.0167,  -3.1333  ),\n",
       "        (b'bradypus_variegatus_1', -55.55  ,  -1.9167  ),\n",
       "        (b'bradypus_variegatus_1', -55.5   ,  -3.6667  ),\n",
       "        (b'bradypus_variegatus_1', -55.1333,  -2.8333  ),\n",
       "        (b'bradypus_variegatus_1', -55.    ,  -2.4333  ),\n",
       "        (b'bradypus_variegatus_1', -54.7   ,  -2.4333  ),\n",
       "        (b'bradypus_variegatus_1', -55.2833,  -3.45    ),\n",
       "        (b'bradypus_variegatus_1', -73.4333,  10.15    ),\n",
       "        (b'bradypus_variegatus_1', -76.6833,   5.1     ),\n",
       "        (b'bradypus_variegatus_1', -76.6667,   5.7     ),\n",
       "        (b'bradypus_variegatus_1', -74.7333,   9.1167  ),\n",
       "        (b'bradypus_variegatus_1', -71.3167,  12.35    ),\n",
       "        (b'bradypus_variegatus_1', -72.5833,   8.5     ),\n",
       "        (b'bradypus_variegatus_1', -76.9333,   4.      ),\n",
       "        (b'bradypus_variegatus_1', -79.65  ,  -3.7167  ),\n",
       "        (b'bradypus_variegatus_1', -79.4667,   0.3333  ),\n",
       "        (b'bradypus_variegatus_1', -79.75  ,  -1.5333  ),\n",
       "        (b'bradypus_variegatus_1', -79.6   ,  -0.4667  ),\n",
       "        (b'bradypus_variegatus_1', -83.7   ,  10.9333  ),\n",
       "        (b'bradypus_variegatus_1', -83.7667,  12.15    ),\n",
       "        (b'bradypus_variegatus_1', -82.5167,   9.45    ),\n",
       "        (b'bradypus_variegatus_1', -81.8   ,   8.9333  ),\n",
       "        (b'bradypus_variegatus_1', -82.7833,   9.6     ),\n",
       "        (b'bradypus_variegatus_1', -82.25  ,   9.1833  ),\n",
       "        (b'bradypus_variegatus_1', -79.9833,   9.25    ),\n",
       "        (b'bradypus_variegatus_1', -77.7333,   8.1333  ),\n",
       "        (b'bradypus_variegatus_1', -79.5833,   8.95    ),\n",
       "        (b'bradypus_variegatus_1', -74.2167,  -4.8333  ),\n",
       "        (b'bradypus_variegatus_1', -65.55  ,   3.1667  ),\n",
       "        (b'bradypus_variegatus_1', -67.6833,  10.3667  ),\n",
       "        (b'bradypus_variegatus_1', -68.3833,  10.5333  ),\n",
       "        (b'bradypus_variegatus_1', -72.6   ,   9.15    ),\n",
       "        (b'microryzomys_minutus_1', -64.7   , -17.85    ),\n",
       "        (b'microryzomys_minutus_1', -67.9833, -15.9     ),\n",
       "        (b'microryzomys_minutus_1', -72.5667, -13.1167  ),\n",
       "        (b'microryzomys_minutus_1', -72.35  , -12.8833  ),\n",
       "        (b'microryzomys_minutus_1', -76.15  ,  -9.7     ),\n",
       "        (b'microryzomys_minutus_1', -79.05  ,  -6.9     ),\n",
       "        (b'microryzomys_minutus_1', -77.7   ,  -6.63333 ),\n",
       "        (b'microryzomys_minutus_1', -77.55  ,  -6.18333 ),\n",
       "        (b'microryzomys_minutus_1', -77.3333,  -6.11667 ),\n",
       "        (b'microryzomys_minutus_1', -79.6   ,  -5.4     ),\n",
       "        (b'microryzomys_minutus_1', -79.6667,  -3.66667 ),\n",
       "        (b'microryzomys_minutus_1', -79.6833,  -3.63333 ),\n",
       "        (b'microryzomys_minutus_1', -78.9833,  -2.28333 ),\n",
       "        (b'microryzomys_minutus_1', -78.4167,   0.116667),\n",
       "        (b'microryzomys_minutus_1', -78.5333,   0.15    ),\n",
       "        (b'microryzomys_minutus_1', -76.4833,   1.95    ),\n",
       "        (b'microryzomys_minutus_1', -77.2   ,   2.666667),\n",
       "        (b'microryzomys_minutus_1', -76.95  ,   2.666667),\n",
       "        (b'microryzomys_minutus_1', -75.3667,   4.433333),\n",
       "        (b'microryzomys_minutus_1', -74.0833,   4.6     ),\n",
       "        (b'microryzomys_minutus_1', -75.55  ,   6.166667),\n",
       "        (b'microryzomys_minutus_1', -71.35  ,   8.633333),\n",
       "        (b'microryzomys_minutus_1', -70.7667,   8.983333),\n",
       "        (b'microryzomys_minutus_1', -67.1667,  10.43333 ),\n",
       "        (b'microryzomys_minutus_1', -77.8333,  -6.75    ),\n",
       "        (b'microryzomys_minutus_1', -79.1333,  -2.85    ),\n",
       "        (b'microryzomys_minutus_1', -78.4667,  -0.3     ),\n",
       "        (b'bradypus_variegatus_2', -65.3833, -10.3833  ),\n",
       "        (b'bradypus_variegatus_2', -63.85  , -17.4     ),\n",
       "        (b'bradypus_variegatus_2', -64.8333,  -0.5167  ),\n",
       "        (b'bradypus_variegatus_2', -55.55  ,  -1.9167  ),\n",
       "        (b'bradypus_variegatus_2', -55.5   ,  -3.6667  ),\n",
       "        (b'bradypus_variegatus_2', -55.    ,  -2.4333  ),\n",
       "        (b'bradypus_variegatus_2', -54.7   ,  -2.4333  ),\n",
       "        (b'bradypus_variegatus_2', -69.95  ,  -4.15    ),\n",
       "        (b'bradypus_variegatus_2', -76.6833,   5.1     ),\n",
       "        (b'bradypus_variegatus_2', -76.6667,   5.7     ),\n",
       "        (b'bradypus_variegatus_2', -77.1667,   7.6667  ),\n",
       "        (b'bradypus_variegatus_2', -77.1167,   8.0167  ),\n",
       "        (b'bradypus_variegatus_2', -75.6833,   8.2833  ),\n",
       "        (b'bradypus_variegatus_2', -74.7333,   9.1167  ),\n",
       "        (b'bradypus_variegatus_2', -76.2833,   7.85    ),\n",
       "        (b'bradypus_variegatus_2', -74.3   ,   4.5833  ),\n",
       "        (b'bradypus_variegatus_2', -67.9333,   3.8667  ),\n",
       "        (b'bradypus_variegatus_2', -73.6167,   4.15    ),\n",
       "        (b'bradypus_variegatus_2', -72.5833,   8.5     ),\n",
       "        (b'bradypus_variegatus_2', -72.5167,   7.9     ),\n",
       "        (b'bradypus_variegatus_2', -75.35  ,   9.5     ),\n",
       "        (b'bradypus_variegatus_2', -79.15  ,  -0.25    ),\n",
       "        (b'bradypus_variegatus_2', -85.9333,  13.1833  ),\n",
       "        (b'bradypus_variegatus_2', -84.5333,  13.95    ),\n",
       "        (b'bradypus_variegatus_2', -79.9333,   9.25    ),\n",
       "        (b'bradypus_variegatus_2', -79.9   ,   9.2167  ),\n",
       "        (b'bradypus_variegatus_2', -79.6   ,   9.2833  ),\n",
       "        (b'bradypus_variegatus_2', -77.75  ,   8.1     ),\n",
       "        (b'bradypus_variegatus_2', -79.6   ,   8.9     ),\n",
       "        (b'bradypus_variegatus_2', -72.1   ,  -3.3167  ),\n",
       "        (b'bradypus_variegatus_2', -72.1333,  -3.4333  ),\n",
       "        (b'bradypus_variegatus_2', -74.2167,  -4.7     ),\n",
       "        (b'bradypus_variegatus_2', -65.55  ,   3.1667  ),\n",
       "        (b'bradypus_variegatus_2', -67.6833,  10.3667  ),\n",
       "        (b'bradypus_variegatus_2', -66.8333,  10.3667  ),\n",
       "        (b'microryzomys_minutus_2', -67.8   , -16.2667  ),\n",
       "        (b'microryzomys_minutus_2', -72.5   , -13.1667  ),\n",
       "        (b'microryzomys_minutus_2', -75.7   , -11.4167  ),\n",
       "        (b'microryzomys_minutus_2', -75.5333, -11.2667  ),\n",
       "        (b'microryzomys_minutus_2', -79.05  ,  -6.9     ),\n",
       "        (b'microryzomys_minutus_2', -77.55  ,  -6.18333 ),\n",
       "        (b'microryzomys_minutus_2', -78.1667,  -5.5     ),\n",
       "        (b'microryzomys_minutus_2', -79.3833,  -5.11667 ),\n",
       "        (b'microryzomys_minutus_2', -78.5333,   0.15    ),\n",
       "        (b'microryzomys_minutus_2', -78.8667,   0.2     ),\n",
       "        (b'microryzomys_minutus_2', -77.2   ,   2.666667),\n",
       "        (b'microryzomys_minutus_2', -76.95  ,   2.666667),\n",
       "        (b'microryzomys_minutus_2', -75.3667,   4.433333),\n",
       "        (b'microryzomys_minutus_2', -74.0833,   4.566667),\n",
       "        (b'microryzomys_minutus_2', -74.0833,   4.6     ),\n",
       "        (b'microryzomys_minutus_2', -75.5667,   4.633333),\n",
       "        (b'microryzomys_minutus_2', -71.35  ,   8.633333),\n",
       "        (b'microryzomys_minutus_2', -70.85  ,   8.8     ),\n",
       "        (b'microryzomys_minutus_2', -70.7667,   8.983333),\n",
       "        (b'microryzomys_minutus_2', -70.3   ,   9.35    ),\n",
       "        (b'microryzomys_minutus_2', -63.8667,  10.11667 ),\n",
       "        (b'microryzomys_minutus_2', -67.1667,  10.43333 ),\n",
       "        (b'microryzomys_minutus_2', -73.5   ,  10.91667 ),\n",
       "        (b'microryzomys_minutus_2', -78.95  ,  -2.48333 ),\n",
       "        (b'microryzomys_minutus_2', -78.5   ,  -1.3     ),\n",
       "        (b'microryzomys_minutus_2', -78.1333,  -0.36667 ),\n",
       "        (b'microryzomys_minutus_2', -78.4667,  -0.3     ),\n",
       "        (b'bradypus_variegatus_3', -63.6667, -17.45    ),\n",
       "        (b'bradypus_variegatus_3', -40.0667, -19.3333  ),\n",
       "        (b'bradypus_variegatus_3', -49.5   ,  -1.      ),\n",
       "        (b'bradypus_variegatus_3', -55.    ,  -2.4333  ),\n",
       "        (b'bradypus_variegatus_3', -54.7   ,  -2.4333  ),\n",
       "        (b'bradypus_variegatus_3', -55.2833,  -3.45    ),\n",
       "        (b'bradypus_variegatus_3', -49.5   ,  -2.5833  ),\n",
       "        (b'bradypus_variegatus_3', -75.0667,   9.9667  ),\n",
       "        (b'bradypus_variegatus_3', -73.4333,  10.15    ),\n",
       "        (b'bradypus_variegatus_3', -76.95  ,   5.05    ),\n",
       "        (b'bradypus_variegatus_3', -77.1667,   7.6667  ),\n",
       "        (b'bradypus_variegatus_3', -74.7333,   9.1167  ),\n",
       "        (b'bradypus_variegatus_3', -67.9333,   3.8667  ),\n",
       "        (b'bradypus_variegatus_3', -71.3167,  12.35    ),\n",
       "        (b'bradypus_variegatus_3', -78.15  ,   1.6833  ),\n",
       "        (b'bradypus_variegatus_3', -84.5   ,  10.3333  ),\n",
       "        (b'bradypus_variegatus_3', -79.6   ,  -0.4667  ),\n",
       "        (b'bradypus_variegatus_3', -83.7667,  12.15    ),\n",
       "        (b'bradypus_variegatus_3', -81.8   ,   8.9333  ),\n",
       "        (b'bradypus_variegatus_3', -82.7833,   9.6     ),\n",
       "        (b'bradypus_variegatus_3', -79.9333,   9.25    ),\n",
       "        (b'bradypus_variegatus_3', -77.6   ,   8.      ),\n",
       "        (b'bradypus_variegatus_3', -77.7333,   8.1333  ),\n",
       "        (b'bradypus_variegatus_3', -78.3667,   7.9667  ),\n",
       "        (b'bradypus_variegatus_3', -79.85  ,   9.15    ),\n",
       "        (b'bradypus_variegatus_3', -74.0833,  -2.3667  ),\n",
       "        (b'bradypus_variegatus_3', -74.2167,  -4.8333  ),\n",
       "        (b'bradypus_variegatus_3', -73.05  ,  -3.4667  ),\n",
       "        (b'bradypus_variegatus_3', -75.1   ,  -6.7333  ),\n",
       "        (b'bradypus_variegatus_3', -74.5333,  -8.3833  ),\n",
       "        (b'bradypus_variegatus_3', -65.55  ,   3.1667  ),\n",
       "        (b'bradypus_variegatus_3', -65.9167,   3.0833  ),\n",
       "        (b'bradypus_variegatus_3', -66.2167,   5.3     ),\n",
       "        (b'bradypus_variegatus_3', -67.6833,  10.3667  ),\n",
       "        (b'bradypus_variegatus_3', -68.3833,  10.5333  ),\n",
       "        (b'microryzomys_minutus_3', -64.7   , -17.85    ),\n",
       "        (b'microryzomys_minutus_3', -67.8333, -16.3333  ),\n",
       "        (b'microryzomys_minutus_3', -67.8833, -16.3     ),\n",
       "        (b'microryzomys_minutus_3', -67.9833, -15.9     ),\n",
       "        (b'microryzomys_minutus_3', -70.9167, -13.5     ),\n",
       "        (b'microryzomys_minutus_3', -72.5667, -13.1167  ),\n",
       "        (b'microryzomys_minutus_3', -76.15  ,  -9.7     ),\n",
       "        (b'microryzomys_minutus_3', -76.0333,  -9.7     ),\n",
       "        (b'microryzomys_minutus_3', -77.95  ,  -5.88333 ),\n",
       "        (b'microryzomys_minutus_3', -78.1667,  -5.5     ),\n",
       "        (b'microryzomys_minutus_3', -78.4333,  -1.45    ),\n",
       "        (b'microryzomys_minutus_3', -78.3833,  -0.36667 ),\n",
       "        (b'microryzomys_minutus_3', -78.4   ,  -0.21667 ),\n",
       "        (b'microryzomys_minutus_3', -78.4167,   0.116667),\n",
       "        (b'microryzomys_minutus_3', -78.5333,   0.15    ),\n",
       "        (b'microryzomys_minutus_3', -76.4833,   1.95    ),\n",
       "        (b'microryzomys_minutus_3', -76.95  ,   2.533333),\n",
       "        (b'microryzomys_minutus_3', -76.9167,   2.583333),\n",
       "        (b'microryzomys_minutus_3', -77.2   ,   2.666667),\n",
       "        (b'microryzomys_minutus_3', -75.3667,   4.433333),\n",
       "        (b'microryzomys_minutus_3', -75.55  ,   6.166667),\n",
       "        (b'microryzomys_minutus_3', -71.4   ,   8.6     ),\n",
       "        (b'microryzomys_minutus_3', -66.8667,  10.55    ),\n",
       "        (b'microryzomys_minutus_3', -73.65  ,  10.71667 ),\n",
       "        (b'microryzomys_minutus_3', -73.5   ,  10.91667 ),\n",
       "        (b'microryzomys_minutus_3', -79.1333,  -2.85    ),\n",
       "        (b'microryzomys_minutus_3', -78.2667,   0.13333 ),\n",
       "        (b'bradypus_variegatus_4', -59.1333,  -3.7     ),\n",
       "        (b'bradypus_variegatus_4', -60.0167,  -3.1333  ),\n",
       "        (b'bradypus_variegatus_4', -55.55  ,  -1.9167  ),\n",
       "        (b'bradypus_variegatus_4', -54.7   ,  -2.4333  ),\n",
       "        (b'bradypus_variegatus_4', -55.1   ,  -3.0833  ),\n",
       "        (b'bradypus_variegatus_4', -49.6833,  -2.6833  ),\n",
       "        (b'bradypus_variegatus_4', -46.7333, -23.45    ),\n",
       "        (b'bradypus_variegatus_4', -76.7167,   8.1     ),\n",
       "        (b'bradypus_variegatus_4', -74.    ,  10.3     ),\n",
       "        (b'bradypus_variegatus_4', -73.4333,  10.15    ),\n",
       "        (b'bradypus_variegatus_4', -72.5833,   8.5     ),\n",
       "        (b'bradypus_variegatus_4', -73.9167,   7.1667  ),\n",
       "        (b'bradypus_variegatus_4', -76.9333,   4.      ),\n",
       "        (b'bradypus_variegatus_4', -84.0167,  10.6333  ),\n",
       "        (b'bradypus_variegatus_4', -83.5667,   9.9167  ),\n",
       "        (b'bradypus_variegatus_4', -83.4667,   8.95    ),\n",
       "        (b'bradypus_variegatus_4', -79.4667,   0.3333  ),\n",
       "        (b'bradypus_variegatus_4', -77.95  ,  -1.4833  ),\n",
       "        (b'bradypus_variegatus_4', -85.9333,  13.1833  ),\n",
       "        (b'bradypus_variegatus_4', -83.7   ,  10.9333  ),\n",
       "        (b'bradypus_variegatus_4', -84.4333,  12.15    ),\n",
       "        (b'bradypus_variegatus_4', -81.8   ,   8.9333  ),\n",
       "        (b'bradypus_variegatus_4', -79.9833,   9.25    ),\n",
       "        (b'bradypus_variegatus_4', -77.3   ,   8.1667  ),\n",
       "        (b'bradypus_variegatus_4', -77.75  ,   8.1     ),\n",
       "        (b'bradypus_variegatus_4', -78.3667,   7.9667  ),\n",
       "        (b'bradypus_variegatus_4', -79.85  ,   9.15    ),\n",
       "        (b'bradypus_variegatus_4', -77.1167,  -4.65    ),\n",
       "        (b'bradypus_variegatus_4', -73.25  ,  -3.7667  ),\n",
       "        (b'bradypus_variegatus_4', -74.2167,  -4.7     ),\n",
       "        (b'bradypus_variegatus_4', -65.9167,   3.0833  ),\n",
       "        (b'bradypus_variegatus_4', -67.6833,  10.3667  ),\n",
       "        (b'bradypus_variegatus_4', -68.3833,  10.5333  ),\n",
       "        (b'bradypus_variegatus_4', -66.8333,  10.3667  ),\n",
       "        (b'bradypus_variegatus_4', -72.6   ,   9.15    ),\n",
       "        (b'microryzomys_minutus_4', -67.8333, -16.3333  ),\n",
       "        (b'microryzomys_minutus_4', -67.8   , -16.2667  ),\n",
       "        (b'microryzomys_minutus_4', -70.9167, -13.5     ),\n",
       "        (b'microryzomys_minutus_4', -72.5   , -13.1667  ),\n",
       "        (b'microryzomys_minutus_4', -72.35  , -12.8833  ),\n",
       "        (b'microryzomys_minutus_4', -75.7   , -11.4167  ),\n",
       "        (b'microryzomys_minutus_4', -76.15  ,  -9.7     ),\n",
       "        (b'microryzomys_minutus_4', -76.0333,  -9.7     ),\n",
       "        (b'microryzomys_minutus_4', -77.3333,  -6.11667 ),\n",
       "        (b'microryzomys_minutus_4', -78.1667,  -5.5     ),\n",
       "        (b'microryzomys_minutus_4', -79.6   ,  -5.4     ),\n",
       "        (b'microryzomys_minutus_4', -78.9833,  -2.28333 ),\n",
       "        (b'microryzomys_minutus_4', -78.6   ,  -0.1     ),\n",
       "        (b'microryzomys_minutus_4', -78.4167,   0.116667),\n",
       "        (b'microryzomys_minutus_4', -78.5333,   0.15    ),\n",
       "        (b'microryzomys_minutus_4', -78.8667,   0.2     ),\n",
       "        (b'microryzomys_minutus_4', -76.4833,   1.95    ),\n",
       "        (b'microryzomys_minutus_4', -71.4   ,   8.6     ),\n",
       "        (b'microryzomys_minutus_4', -71.0833,   8.75    ),\n",
       "        (b'microryzomys_minutus_4', -71.25  ,   8.833333),\n",
       "        (b'microryzomys_minutus_4', -77.8333,  -6.75    ),\n",
       "        (b'microryzomys_minutus_4', -79.0167,  -3.41667 ),\n",
       "        (b'microryzomys_minutus_4', -79.1333,  -2.85    ),\n",
       "        (b'microryzomys_minutus_4', -78.95  ,  -2.48333 ),\n",
       "        (b'microryzomys_minutus_4', -78.4667,  -0.3     ),\n",
       "        (b'microryzomys_minutus_4', -78.55  ,  -0.16667 ),\n",
       "        (b'microryzomys_minutus_4', -77.8167,   0.6     ),\n",
       "        (b'bradypus_variegatus_5', -63.6667, -17.45    ),\n",
       "        (b'bradypus_variegatus_5', -63.85  , -17.4     ),\n",
       "        (b'bradypus_variegatus_5', -56.7333,  -2.6     ),\n",
       "        (b'bradypus_variegatus_5', -59.1333,  -3.7     ),\n",
       "        (b'bradypus_variegatus_5', -40.0667, -19.3333  ),\n",
       "        (b'bradypus_variegatus_5', -52.6667,  -3.8333  ),\n",
       "        (b'bradypus_variegatus_5', -49.5   ,  -1.      ),\n",
       "        (b'bradypus_variegatus_5', -54.7   ,  -2.4333  ),\n",
       "        (b'bradypus_variegatus_5', -49.5   ,  -2.25    ),\n",
       "        (b'bradypus_variegatus_5', -49.5   ,  -2.5833  ),\n",
       "        (b'bradypus_variegatus_5', -76.2667,   7.0167  ),\n",
       "        (b'bradypus_variegatus_5', -76.6833,   5.1     ),\n",
       "        (b'bradypus_variegatus_5', -75.6833,   8.2833  ),\n",
       "        (b'bradypus_variegatus_5', -74.7333,   9.1167  ),\n",
       "        (b'bradypus_variegatus_5', -76.2833,   7.85    ),\n",
       "        (b'bradypus_variegatus_5', -73.6167,   4.15    ),\n",
       "        (b'bradypus_variegatus_5', -72.5167,   7.9     ),\n",
       "        (b'bradypus_variegatus_5', -76.9333,   4.      ),\n",
       "        (b'bradypus_variegatus_5', -83.6333,   9.8833  ),\n",
       "        (b'bradypus_variegatus_5', -84.0167,  10.6333  ),\n",
       "        (b'bradypus_variegatus_5', -79.4667,   0.3333  ),\n",
       "        (b'bradypus_variegatus_5', -79.75  ,  -1.5333  ),\n",
       "        (b'bradypus_variegatus_5', -77.1333,  -0.7     ),\n",
       "        (b'bradypus_variegatus_5', -77.95  ,  -1.4833  ),\n",
       "        (b'bradypus_variegatus_5', -84.5333,  13.95    ),\n",
       "        (b'bradypus_variegatus_5', -82.5167,   9.45    ),\n",
       "        (b'bradypus_variegatus_5', -82.25  ,   9.1833  ),\n",
       "        (b'bradypus_variegatus_5', -79.85  ,   9.15    ),\n",
       "        (b'bradypus_variegatus_5', -79.35  ,   9.2333  ),\n",
       "        (b'bradypus_variegatus_5', -79.6   ,   8.9     ),\n",
       "        (b'bradypus_variegatus_5', -74.0833,  -2.3667  ),\n",
       "        (b'bradypus_variegatus_5', -73.25  ,  -3.7667  ),\n",
       "        (b'bradypus_variegatus_5', -72.1   ,  -3.3167  ),\n",
       "        (b'bradypus_variegatus_5', -73.05  ,  -3.4667  ),\n",
       "        (b'bradypus_variegatus_5', -66.8333,  10.3667  ),\n",
       "        (b'microryzomys_minutus_5', -67.8333, -16.3333  ),\n",
       "        (b'microryzomys_minutus_5', -67.8   , -16.2667  ),\n",
       "        (b'microryzomys_minutus_5', -75.7   , -11.4167  ),\n",
       "        (b'microryzomys_minutus_5', -75.8667, -10.4667  ),\n",
       "        (b'microryzomys_minutus_5', -78.1667,  -5.5     ),\n",
       "        (b'microryzomys_minutus_5', -79.6   ,  -5.4     ),\n",
       "        (b'microryzomys_minutus_5', -78.9833,  -2.28333 ),\n",
       "        (b'microryzomys_minutus_5', -78.6   ,  -0.1     ),\n",
       "        (b'microryzomys_minutus_5', -78.5333,   0.15    ),\n",
       "        (b'microryzomys_minutus_5', -78.8667,   0.2     ),\n",
       "        (b'microryzomys_minutus_5', -76.4833,   1.95    ),\n",
       "        (b'microryzomys_minutus_5', -76.5667,   1.95    ),\n",
       "        (b'microryzomys_minutus_5', -76.95  ,   2.533333),\n",
       "        (b'microryzomys_minutus_5', -76.9167,   2.583333),\n",
       "        (b'microryzomys_minutus_5', -74.5333,   4.75    ),\n",
       "        (b'microryzomys_minutus_5', -74.6333,   4.85    ),\n",
       "        (b'microryzomys_minutus_5', -75.55  ,   6.166667),\n",
       "        (b'microryzomys_minutus_5', -76.0667,   6.466667),\n",
       "        (b'microryzomys_minutus_5', -75.45  ,   7.083333),\n",
       "        (b'microryzomys_minutus_5', -71.15  ,   8.6     ),\n",
       "        (b'microryzomys_minutus_5', -71.0833,   8.75    ),\n",
       "        (b'microryzomys_minutus_5', -70.85  ,   8.8     ),\n",
       "        (b'microryzomys_minutus_5', -73.5   ,  10.91667 ),\n",
       "        (b'microryzomys_minutus_5', -78.9667,  -2.4     ),\n",
       "        (b'microryzomys_minutus_5', -78.5   ,  -1.3     ),\n",
       "        (b'microryzomys_minutus_5', -78.1333,  -0.36667 ),\n",
       "        (b'microryzomys_minutus_5', -78.55  ,  -0.16667 ),\n",
       "        (b'bradypus_variegatus_6', -65.4   , -10.3833  ),\n",
       "        (b'bradypus_variegatus_6', -63.1667, -17.8     ),\n",
       "        (b'bradypus_variegatus_6', -56.7333,  -2.6     ),\n",
       "        (b'bradypus_variegatus_6', -64.8333,  -0.5167  ),\n",
       "        (b'bradypus_variegatus_6', -49.5   ,  -1.      ),\n",
       "        (b'bradypus_variegatus_6', -55.55  ,  -1.9167  ),\n",
       "        (b'bradypus_variegatus_6', -54.7   ,  -2.4333  ),\n",
       "        (b'bradypus_variegatus_6', -49.5   ,  -2.5833  ),\n",
       "        (b'bradypus_variegatus_6', -75.05  ,   7.35    ),\n",
       "        (b'bradypus_variegatus_6', -75.0667,   9.9667  ),\n",
       "        (b'bradypus_variegatus_6', -74.    ,  10.3     ),\n",
       "        (b'bradypus_variegatus_6', -76.95  ,   5.05    ),\n",
       "        (b'bradypus_variegatus_6', -76.2833,   7.85    ),\n",
       "        (b'bradypus_variegatus_6', -72.5833,   8.5     ),\n",
       "        (b'bradypus_variegatus_6', -84.5   ,  10.3333  ),\n",
       "        (b'bradypus_variegatus_6', -83.6333,   9.8833  ),\n",
       "        (b'bradypus_variegatus_6', -84.0167,  10.6333  ),\n",
       "        (b'bradypus_variegatus_6', -83.5667,   9.9167  ),\n",
       "        (b'bradypus_variegatus_6', -79.4667,   0.3333  ),\n",
       "        (b'bradypus_variegatus_6', -79.75  ,  -1.5333  ),\n",
       "        (b'bradypus_variegatus_6', -79.6   ,  -0.4667  ),\n",
       "        (b'bradypus_variegatus_6', -79.9   ,   9.2167  ),\n",
       "        (b'bradypus_variegatus_6', -77.3   ,   8.1667  ),\n",
       "        (b'bradypus_variegatus_6', -77.75  ,   8.1     ),\n",
       "        (b'bradypus_variegatus_6', -79.85  ,   9.15    ),\n",
       "        (b'bradypus_variegatus_6', -79.8   ,   8.8667  ),\n",
       "        (b'bradypus_variegatus_6', -77.1167,  -4.65    ),\n",
       "        (b'bradypus_variegatus_6', -74.0833,  -2.3667  ),\n",
       "        (b'bradypus_variegatus_6', -73.25  ,  -3.7667  ),\n",
       "        (b'bradypus_variegatus_6', -72.1333,  -3.4333  ),\n",
       "        (b'bradypus_variegatus_6', -74.2167,  -4.7     ),\n",
       "        (b'bradypus_variegatus_6', -65.55  ,   3.1667  ),\n",
       "        (b'bradypus_variegatus_6', -65.9167,   3.0833  ),\n",
       "        (b'bradypus_variegatus_6', -68.3833,  10.5333  ),\n",
       "        (b'bradypus_variegatus_6', -72.6   ,   9.15    ),\n",
       "        (b'microryzomys_minutus_6', -67.8   , -16.2667  ),\n",
       "        (b'microryzomys_minutus_6', -75.7   , -11.4167  ),\n",
       "        (b'microryzomys_minutus_6', -75.8667, -10.4667  ),\n",
       "        (b'microryzomys_minutus_6', -76.2333,  -9.9167  ),\n",
       "        (b'microryzomys_minutus_6', -76.0333,  -9.7     ),\n",
       "        (b'microryzomys_minutus_6', -77.55  ,  -6.18333 ),\n",
       "        (b'microryzomys_minutus_6', -77.95  ,  -5.88333 ),\n",
       "        (b'microryzomys_minutus_6', -79.6667,  -3.66667 ),\n",
       "        (b'microryzomys_minutus_6', -79.6833,  -3.63333 ),\n",
       "        (b'microryzomys_minutus_6', -78.3833,  -0.36667 ),\n",
       "        (b'microryzomys_minutus_6', -78.4   ,  -0.21667 ),\n",
       "        (b'microryzomys_minutus_6', -78.6   ,  -0.1     ),\n",
       "        (b'microryzomys_minutus_6', -78.8667,   0.2     ),\n",
       "        (b'microryzomys_minutus_6', -76.6   ,   1.916667),\n",
       "        (b'microryzomys_minutus_6', -76.3   ,   2.483333),\n",
       "        (b'microryzomys_minutus_6', -76.95  ,   2.533333),\n",
       "        (b'microryzomys_minutus_6', -76.9167,   2.583333),\n",
       "        (b'microryzomys_minutus_6', -76.0667,   6.466667),\n",
       "        (b'microryzomys_minutus_6', -72.4333,   7.45    ),\n",
       "        (b'microryzomys_minutus_6', -71.4   ,   8.6     ),\n",
       "        (b'microryzomys_minutus_6', -71.0167,   8.6     ),\n",
       "        (b'microryzomys_minutus_6', -71.25  ,   8.833333),\n",
       "        (b'microryzomys_minutus_6', -73.5   ,  10.91667 ),\n",
       "        (b'microryzomys_minutus_6', -79.1333,  -2.85    ),\n",
       "        (b'microryzomys_minutus_6', -78.9667,  -2.4     ),\n",
       "        (b'microryzomys_minutus_6', -78.5   ,  -1.3     ),\n",
       "        (b'microryzomys_minutus_6', -77.8167,   0.6     ),\n",
       "        (b'bradypus_variegatus_7', -65.1333, -16.8     ),\n",
       "        (b'bradypus_variegatus_7', -63.85  , -17.4     ),\n",
       "        (b'bradypus_variegatus_7', -56.7333,  -2.6     ),\n",
       "        (b'bradypus_variegatus_7', -60.0167,  -3.1333  ),\n",
       "        (b'bradypus_variegatus_7', -40.0667, -19.3333  ),\n",
       "        (b'bradypus_variegatus_7', -49.5   ,  -1.      ),\n",
       "        (b'bradypus_variegatus_7', -55.55  ,  -1.9167  ),\n",
       "        (b'bradypus_variegatus_7', -52.2   ,  -1.7     ),\n",
       "        (b'bradypus_variegatus_7', -55.5   ,  -3.6667  ),\n",
       "        (b'bradypus_variegatus_7', -55.1333,  -2.8333  ),\n",
       "        (b'bradypus_variegatus_7', -49.6833,  -2.6833  ),\n",
       "        (b'bradypus_variegatus_7', -76.2667,   7.0167  ),\n",
       "        (b'bradypus_variegatus_7', -75.5833,   6.25    ),\n",
       "        (b'bradypus_variegatus_7', -76.7167,   8.1     ),\n",
       "        (b'bradypus_variegatus_7', -75.0667,   9.9667  ),\n",
       "        (b'bradypus_variegatus_7', -73.4333,  10.15    ),\n",
       "        (b'bradypus_variegatus_7', -77.7667,   7.1167  ),\n",
       "        (b'bradypus_variegatus_7', -76.95  ,   5.05    ),\n",
       "        (b'bradypus_variegatus_7', -71.3167,  12.35    ),\n",
       "        (b'bradypus_variegatus_7', -72.5833,   8.5     ),\n",
       "        (b'bradypus_variegatus_7', -74.7667,  -0.2     ),\n",
       "        (b'bradypus_variegatus_7', -75.3333,   0.4667  ),\n",
       "        (b'bradypus_variegatus_7', -75.35  ,   9.5     ),\n",
       "        (b'bradypus_variegatus_7', -77.0833,   3.6833  ),\n",
       "        (b'bradypus_variegatus_7', -83.4667,   8.95    ),\n",
       "        (b'bradypus_variegatus_7', -85.9333,  13.1833  ),\n",
       "        (b'bradypus_variegatus_7', -83.7   ,  10.9333  ),\n",
       "        (b'bradypus_variegatus_7', -83.7667,  12.15    ),\n",
       "        (b'bradypus_variegatus_7', -78.3667,   7.9667  ),\n",
       "        (b'bradypus_variegatus_7', -77.4333,   7.9833  ),\n",
       "        (b'bradypus_variegatus_7', -79.6   ,   8.9     ),\n",
       "        (b'bradypus_variegatus_7', -72.1   ,  -3.3167  ),\n",
       "        (b'bradypus_variegatus_7', -72.1333,  -3.4333  ),\n",
       "        (b'bradypus_variegatus_7', -75.1   ,  -6.7333  ),\n",
       "        (b'bradypus_variegatus_7', -66.8333,  10.3667  ),\n",
       "        (b'microryzomys_minutus_7', -67.9833, -15.9     ),\n",
       "        (b'microryzomys_minutus_7', -72.5667, -13.1167  ),\n",
       "        (b'microryzomys_minutus_7', -72.35  , -12.8833  ),\n",
       "        (b'microryzomys_minutus_7', -73.8167, -12.7833  ),\n",
       "        (b'microryzomys_minutus_7', -77.7   ,  -6.63333 ),\n",
       "        (b'microryzomys_minutus_7', -79.6   ,  -5.4     ),\n",
       "        (b'microryzomys_minutus_7', -79.6833,  -3.63333 ),\n",
       "        (b'microryzomys_minutus_7', -78.4333,  -1.45    ),\n",
       "        (b'microryzomys_minutus_7', -78.4167,  -1.4     ),\n",
       "        (b'microryzomys_minutus_7', -78.6   ,  -0.1     ),\n",
       "        (b'microryzomys_minutus_7', -78.5833,  -0.05    ),\n",
       "        (b'microryzomys_minutus_7', -78.8333,   0.116667),\n",
       "        (b'microryzomys_minutus_7', -76.4833,   1.95    ),\n",
       "        (b'microryzomys_minutus_7', -76.5667,   1.95    ),\n",
       "        (b'microryzomys_minutus_7', -76.9167,   2.583333),\n",
       "        (b'microryzomys_minutus_7', -74.0833,   4.566667),\n",
       "        (b'microryzomys_minutus_7', -75.5   ,   4.583333),\n",
       "        (b'microryzomys_minutus_7', -74.0833,   4.6     ),\n",
       "        (b'microryzomys_minutus_7', -73.8667,   4.866667),\n",
       "        (b'microryzomys_minutus_7', -75.55  ,   6.166667),\n",
       "        (b'microryzomys_minutus_7', -76.0667,   6.466667),\n",
       "        (b'microryzomys_minutus_7', -71.4   ,   8.6     ),\n",
       "        (b'microryzomys_minutus_7', -70.7667,   8.983333),\n",
       "        (b'microryzomys_minutus_7', -70.3   ,   9.35    ),\n",
       "        (b'microryzomys_minutus_7', -79.1333,  -2.85    ),\n",
       "        (b'microryzomys_minutus_7', -78.4667,  -0.3     ),\n",
       "        (b'microryzomys_minutus_7', -77.8167,   0.6     ),\n",
       "        (b'bradypus_variegatus_8', -65.3833, -10.3833  ),\n",
       "        (b'bradypus_variegatus_8', -65.1333, -16.8     ),\n",
       "        (b'bradypus_variegatus_8', -59.1333,  -3.7     ),\n",
       "        (b'bradypus_variegatus_8', -62.0833,  -3.8333  ),\n",
       "        (b'bradypus_variegatus_8', -55.55  ,  -1.9167  ),\n",
       "        (b'bradypus_variegatus_8', -55.5   ,  -3.6667  ),\n",
       "        (b'bradypus_variegatus_8', -55.    ,  -2.4333  ),\n",
       "        (b'bradypus_variegatus_8', -55.1   ,  -3.0833  ),\n",
       "        (b'bradypus_variegatus_8', -49.6833,  -2.6833  ),\n",
       "        (b'bradypus_variegatus_8', -69.95  ,  -4.15    ),\n",
       "        (b'bradypus_variegatus_8', -75.05  ,   7.35    ),\n",
       "        (b'bradypus_variegatus_8', -74.    ,  10.3     ),\n",
       "        (b'bradypus_variegatus_8', -73.4333,  10.15    ),\n",
       "        (b'bradypus_variegatus_8', -76.6667,   5.7     ),\n",
       "        (b'bradypus_variegatus_8', -76.95  ,   5.05    ),\n",
       "        (b'bradypus_variegatus_8', -75.6833,   8.2833  ),\n",
       "        (b'bradypus_variegatus_8', -67.9333,   3.8667  ),\n",
       "        (b'bradypus_variegatus_8', -72.5167,   7.9     ),\n",
       "        (b'bradypus_variegatus_8', -73.9167,   7.1667  ),\n",
       "        (b'bradypus_variegatus_8', -75.35  ,   9.5     ),\n",
       "        (b'bradypus_variegatus_8', -83.5667,   9.9167  ),\n",
       "        (b'bradypus_variegatus_8', -83.4667,   8.95    ),\n",
       "        (b'bradypus_variegatus_8', -79.4667,   0.3333  ),\n",
       "        (b'bradypus_variegatus_8', -85.9333,  13.1833  ),\n",
       "        (b'bradypus_variegatus_8', -82.4   ,   9.3     ),\n",
       "        (b'bradypus_variegatus_8', -79.9833,   9.25    ),\n",
       "        (b'bradypus_variegatus_8', -79.9   ,   9.2167  ),\n",
       "        (b'bradypus_variegatus_8', -79.6   ,   9.2833  ),\n",
       "        (b'bradypus_variegatus_8', -77.6   ,   8.      ),\n",
       "        (b'bradypus_variegatus_8', -78.3667,   7.9667  ),\n",
       "        (b'bradypus_variegatus_8', -79.35  ,   9.2333  ),\n",
       "        (b'bradypus_variegatus_8', -74.2167,  -4.8333  ),\n",
       "        (b'bradypus_variegatus_8', -65.9167,   3.0833  ),\n",
       "        (b'bradypus_variegatus_8', -66.8333,  10.3667  ),\n",
       "        (b'bradypus_variegatus_8', -72.6   ,   9.15    ),\n",
       "        (b'microryzomys_minutus_8', -67.8333, -16.3333  ),\n",
       "        (b'microryzomys_minutus_8', -67.8833, -16.3     ),\n",
       "        (b'microryzomys_minutus_8', -70.9167, -13.5     ),\n",
       "        (b'microryzomys_minutus_8', -72.35  , -12.8833  ),\n",
       "        (b'microryzomys_minutus_8', -76.15  ,  -9.7     ),\n",
       "        (b'microryzomys_minutus_8', -79.05  ,  -6.9     ),\n",
       "        (b'microryzomys_minutus_8', -79.6   ,  -5.4     ),\n",
       "        (b'microryzomys_minutus_8', -79.3833,  -5.11667 ),\n",
       "        (b'microryzomys_minutus_8', -79.4333,  -2.8     ),\n",
       "        (b'microryzomys_minutus_8', -78.4167,  -1.4     ),\n",
       "        (b'microryzomys_minutus_8', -78.4833,  -1.36667 ),\n",
       "        (b'microryzomys_minutus_8', -78.3833,  -0.36667 ),\n",
       "        (b'microryzomys_minutus_8', -78.4   ,  -0.21667 ),\n",
       "        (b'microryzomys_minutus_8', -78.8333,   0.116667),\n",
       "        (b'microryzomys_minutus_8', -76.5667,   1.95    ),\n",
       "        (b'microryzomys_minutus_8', -76.3   ,   2.483333),\n",
       "        (b'microryzomys_minutus_8', -74.3667,   4.35    ),\n",
       "        (b'microryzomys_minutus_8', -74.0833,   4.566667),\n",
       "        (b'microryzomys_minutus_8', -75.5667,   4.633333),\n",
       "        (b'microryzomys_minutus_8', -71.4   ,   8.6     ),\n",
       "        (b'microryzomys_minutus_8', -70.85  ,   8.8     ),\n",
       "        (b'microryzomys_minutus_8', -70.7667,   8.983333),\n",
       "        (b'microryzomys_minutus_8', -63.5333,  10.2     ),\n",
       "        (b'microryzomys_minutus_8', -73.65  ,  10.71667 ),\n",
       "        (b'microryzomys_minutus_8', -77.8333,  -6.75    ),\n",
       "        (b'microryzomys_minutus_8', -78.95  ,  -2.48333 ),\n",
       "        (b'microryzomys_minutus_8', -78.4667,  -0.3     ),\n",
       "        (b'bradypus_variegatus_9', -63.85  , -17.4     ),\n",
       "        (b'bradypus_variegatus_9', -64.4167, -16.      ),\n",
       "        (b'bradypus_variegatus_9', -60.0833,  -3.1333  ),\n",
       "        (b'bradypus_variegatus_9', -62.0833,  -3.8333  ),\n",
       "        (b'bradypus_variegatus_9', -40.0667, -19.3333  ),\n",
       "        (b'bradypus_variegatus_9', -55.5   ,  -3.6667  ),\n",
       "        (b'bradypus_variegatus_9', -55.    ,  -2.4333  ),\n",
       "        (b'bradypus_variegatus_9', -55.2833,  -3.45    ),\n",
       "        (b'bradypus_variegatus_9', -69.95  ,  -4.15    ),\n",
       "        (b'bradypus_variegatus_9', -76.2667,   7.0167  ),\n",
       "        (b'bradypus_variegatus_9', -75.5833,   6.25    ),\n",
       "        (b'bradypus_variegatus_9', -76.6833,   5.1     ),\n",
       "        (b'bradypus_variegatus_9', -77.1667,   7.6667  ),\n",
       "        (b'bradypus_variegatus_9', -75.6833,   8.2833  ),\n",
       "        (b'bradypus_variegatus_9', -74.7333,   9.1167  ),\n",
       "        (b'bradypus_variegatus_9', -74.3   ,   4.5833  ),\n",
       "        (b'bradypus_variegatus_9', -71.3167,  12.35    ),\n",
       "        (b'bradypus_variegatus_9', -75.3333,   0.4667  ),\n",
       "        (b'bradypus_variegatus_9', -84.5   ,  10.3333  ),\n",
       "        (b'bradypus_variegatus_9', -83.5667,   9.9167  ),\n",
       "        (b'bradypus_variegatus_9', -79.75  ,  -1.5333  ),\n",
       "        (b'bradypus_variegatus_9', -77.1333,  -0.7     ),\n",
       "        (b'bradypus_variegatus_9', -84.5333,  13.95    ),\n",
       "        (b'bradypus_variegatus_9', -81.8   ,   8.9333  ),\n",
       "        (b'bradypus_variegatus_9', -82.7833,   9.6     ),\n",
       "        (b'bradypus_variegatus_9', -82.25  ,   9.1833  ),\n",
       "        (b'bradypus_variegatus_9', -79.8167,   9.1667  ),\n",
       "        (b'bradypus_variegatus_9', -79.9333,   9.25    ),\n",
       "        (b'bradypus_variegatus_9', -79.9833,   9.25    ),\n",
       "        (b'bradypus_variegatus_9', -77.6   ,   8.      ),\n",
       "        (b'bradypus_variegatus_9', -79.35  ,   9.2333  ),\n",
       "        (b'bradypus_variegatus_9', -73.25  ,  -3.7667  ),\n",
       "        (b'bradypus_variegatus_9', -72.1   ,  -3.3167  ),\n",
       "        (b'bradypus_variegatus_9', -74.2167,  -4.7     ),\n",
       "        (b'bradypus_variegatus_9', -72.6   ,   9.15    ),\n",
       "        (b'microryzomys_minutus_9', -67.8333, -16.3333  ),\n",
       "        (b'microryzomys_minutus_9', -67.8833, -16.3     ),\n",
       "        (b'microryzomys_minutus_9', -67.8   , -16.2667  ),\n",
       "        (b'microryzomys_minutus_9', -76.2333,  -9.9167  ),\n",
       "        (b'microryzomys_minutus_9', -77.7   ,  -6.63333 ),\n",
       "        (b'microryzomys_minutus_9', -79.6667,  -3.66667 ),\n",
       "        (b'microryzomys_minutus_9', -79.6833,  -3.63333 ),\n",
       "        (b'microryzomys_minutus_9', -79.4333,  -2.8     ),\n",
       "        (b'microryzomys_minutus_9', -78.4333,  -1.45    ),\n",
       "        (b'microryzomys_minutus_9', -78.4   ,  -0.21667 ),\n",
       "        (b'microryzomys_minutus_9', -78.6   ,  -0.1     ),\n",
       "        (b'microryzomys_minutus_9', -78.8667,   0.2     ),\n",
       "        (b'microryzomys_minutus_9', -76.4833,   1.95    ),\n",
       "        (b'microryzomys_minutus_9', -76.9167,   2.583333),\n",
       "        (b'microryzomys_minutus_9', -76.95  ,   2.666667),\n",
       "        (b'microryzomys_minutus_9', -75.5   ,   4.583333),\n",
       "        (b'microryzomys_minutus_9', -76.0667,   6.466667),\n",
       "        (b'microryzomys_minutus_9', -72.4333,   7.45    ),\n",
       "        (b'microryzomys_minutus_9', -71.0167,   8.6     ),\n",
       "        (b'microryzomys_minutus_9', -70.7667,   8.983333),\n",
       "        (b'microryzomys_minutus_9', -70.3   ,   9.35    ),\n",
       "        (b'microryzomys_minutus_9', -63.8667,  10.11667 ),\n",
       "        (b'microryzomys_minutus_9', -73.5   ,  10.91667 ),\n",
       "        (b'microryzomys_minutus_9', -77.8333,  -6.75    ),\n",
       "        (b'microryzomys_minutus_9', -79.0167,  -3.41667 ),\n",
       "        (b'microryzomys_minutus_9', -78.55  ,  -0.16667 ),\n",
       "        (b'microryzomys_minutus_9', -78.2667,   0.13333 )],\n",
       "       dtype=[('species', 'S22'), ('dd long', '<f4'), ('dd lat', '<f4')]),\n",
       " 'train': array([(b'microryzomys_minutus', -64.7   , -17.85   ),\n",
       "        (b'microryzomys_minutus', -67.8333, -16.3333 ),\n",
       "        (b'microryzomys_minutus', -67.8833, -16.3    ), ...,\n",
       "        (b'microryzomys_minutus_9', -78.4667,  -0.3    ),\n",
       "        (b'microryzomys_minutus_9', -77.8167,   0.6    ),\n",
       "        (b'microryzomys_minutus_9', -75.3833,   4.96667)],\n",
       "       dtype=[('species', 'S22'), ('dd long', '<f4'), ('dd lat', '<f4')]),\n",
       " 'x_left_lower_corner': -94.8,\n",
       " 'Nx': 1212,\n",
       " 'y_left_lower_corner': -56.05,\n",
       " 'Ny': 1592,\n",
       " 'grid_size': 0.05}"
      ]
     },
     "execution_count": 279,
     "metadata": {},
     "output_type": "execute_result"
    }
   ],
   "source": [
    "# dfは辞書型 3次元のデータが入ってる\n",
    "df"
   ]
  },
  {
   "cell_type": "code",
   "execution_count": 23,
   "id": "c3e11082",
   "metadata": {},
   "outputs": [
    {
     "data": {
      "text/plain": [
       "dict_keys(['coverages', 'test', 'train', 'x_left_lower_corner', 'Nx', 'y_left_lower_corner', 'Ny', 'grid_size'])"
      ]
     },
     "execution_count": 23,
     "metadata": {},
     "output_type": "execute_result"
    }
   ],
   "source": [
    "# 全部のキーを確認\n",
    "df.keys()"
   ]
  },
  {
   "cell_type": "code",
   "execution_count": 16,
   "id": "a65df35f",
   "metadata": {},
   "outputs": [
    {
     "data": {
      "text/plain": [
       "620"
      ]
     },
     "execution_count": 16,
     "metadata": {},
     "output_type": "execute_result"
    }
   ],
   "source": [
    "len(df.test)"
   ]
  },
  {
   "cell_type": "code",
   "execution_count": 282,
   "id": "59e9f238",
   "metadata": {},
   "outputs": [
    {
     "name": "stdout",
     "output_type": "stream",
     "text": [
      "x_left_lower_corner: -94.8\n",
      "y_left_lower_corner: -56.05\n",
      "grid_size: 0.05\n",
      "Nx(グリッド内の経度の数): 1212\n",
      "Ny(グリッド内の緯度の数): 1592\n"
     ]
    }
   ],
   "source": [
    "# 以下の変数はスカラで数値が格納されている\n",
    "\n",
    "print(\"x_left_lower_corner:\", df.x_left_lower_corner)\n",
    "print(\"y_left_lower_corner:\", df.y_left_lower_corner)\n",
    "print(\"grid_size:\", df.grid_size)\n",
    "print(\"Nx(グリッド内の経度の数):\", df.Nx)\n",
    "print(\"Ny(グリッド内の緯度の数):\", df.Ny)"
   ]
  },
  {
   "cell_type": "code",
   "execution_count": 27,
   "id": "af71efd8",
   "metadata": {},
   "outputs": [
    {
     "data": {
      "text/plain": [
       "array([-128, -128, -128, ..., -128, -128, -128], dtype=int16)"
      ]
     },
     "execution_count": 27,
     "metadata": {},
     "output_type": "execute_result"
    }
   ],
   "source": [
    "\n",
    "df[\"coverages\"][0][0]\n"
   ]
  },
  {
   "cell_type": "code",
   "execution_count": 37,
   "id": "496f8ba3",
   "metadata": {},
   "outputs": [
    {
     "name": "stdout",
     "output_type": "stream",
     "text": [
      "14\n",
      "620\n",
      "1624\n"
     ]
    },
    {
     "ename": "TypeError",
     "evalue": "object of type 'float' has no len()",
     "output_type": "error",
     "traceback": [
      "\u001b[1;31m---------------------------------------------------------------------------\u001b[0m",
      "\u001b[1;31mTypeError\u001b[0m                                 Traceback (most recent call last)",
      "Cell \u001b[1;32mIn [37], line 3\u001b[0m\n\u001b[0;32m      1\u001b[0m \u001b[38;5;28;01mfor\u001b[39;00m a, b \u001b[38;5;129;01min\u001b[39;00m df\u001b[38;5;241m.\u001b[39mitems():\n\u001b[0;32m      2\u001b[0m     \u001b[38;5;66;03m#print(a, \"--\", b)\u001b[39;00m\n\u001b[1;32m----> 3\u001b[0m     \u001b[38;5;28mprint\u001b[39m(\u001b[38;5;28;43mlen\u001b[39;49m\u001b[43m(\u001b[49m\u001b[43mdf\u001b[49m\u001b[43m[\u001b[49m\u001b[43ma\u001b[49m\u001b[43m]\u001b[49m\u001b[43m)\u001b[49m)\n",
      "\u001b[1;31mTypeError\u001b[0m: object of type 'float' has no len()"
     ]
    }
   ],
   "source": [
    "for a, b in df.items():\n",
    "    #print(a, \"--\", b)\n",
    "    print(len(df[a]))"
   ]
  },
  {
   "cell_type": "code",
   "execution_count": null,
   "id": "2db412a2",
   "metadata": {},
   "outputs": [],
   "source": []
  },
  {
   "cell_type": "code",
   "execution_count": 34,
   "id": "fed98694",
   "metadata": {},
   "outputs": [
    {
     "ename": "TypeError",
     "evalue": "'dict_items' object is not subscriptable",
     "output_type": "error",
     "traceback": [
      "\u001b[1;31m---------------------------------------------------------------------------\u001b[0m",
      "\u001b[1;31mTypeError\u001b[0m                                 Traceback (most recent call last)",
      "Cell \u001b[1;32mIn [34], line 1\u001b[0m\n\u001b[1;32m----> 1\u001b[0m \u001b[43mdf\u001b[49m\u001b[38;5;241;43m.\u001b[39;49m\u001b[43mitems\u001b[49m\u001b[43m(\u001b[49m\u001b[43m)\u001b[49m\u001b[43m[\u001b[49m\u001b[38;5;241;43m0\u001b[39;49m\u001b[43m]\u001b[49m\n",
      "\u001b[1;31mTypeError\u001b[0m: 'dict_items' object is not subscriptable"
     ]
    }
   ],
   "source": [
    "df.items()"
   ]
  },
  {
   "cell_type": "code",
   "execution_count": 43,
   "id": "35820c2a",
   "metadata": {},
   "outputs": [],
   "source": [
    "# Braypus Variegatusはノドジロナマケモノ　Microryzomys Minutusは南米に生息するげっ歯類\n",
    "species_names = [\"Braypus Variegatus\", \"Microryzomys Minutus\"]\n"
   ]
  },
  {
   "cell_type": "code",
   "execution_count": null,
   "id": "454f04c9",
   "metadata": {},
   "outputs": [],
   "source": [
    "XTrain = np.vstack()"
   ]
  },
  {
   "cell_type": "code",
   "execution_count": 51,
   "id": "e7d635f7",
   "metadata": {},
   "outputs": [
    {
     "data": {
      "text/plain": [
       "array([(b'microryzomys_minutus', -64.7   , -17.85  ),\n",
       "       (b'microryzomys_minutus', -67.8333, -16.3333),\n",
       "       (b'microryzomys_minutus', -67.8833, -16.3   ),\n",
       "       (b'microryzomys_minutus', -67.8   , -16.2667),\n",
       "       (b'microryzomys_minutus', -67.9833, -15.9   ),\n",
       "       (b'microryzomys_minutus', -70.9167, -13.5   ),\n",
       "       (b'microryzomys_minutus', -72.5   , -13.1667),\n",
       "       (b'microryzomys_minutus', -72.5667, -13.1167),\n",
       "       (b'microryzomys_minutus', -72.35  , -12.8833)],\n",
       "      dtype=[('species', 'S22'), ('dd long', '<f4'), ('dd lat', '<f4')])"
      ]
     },
     "execution_count": 51,
     "metadata": {},
     "output_type": "execute_result"
    }
   ],
   "source": [
    "df.train[0:9]"
   ]
  },
  {
   "cell_type": "code",
   "execution_count": 52,
   "id": "37a46cc2",
   "metadata": {},
   "outputs": [
    {
     "data": {
      "text/plain": [
       "(b'microryzomys_minutus', -64.7, -17.85)"
      ]
     },
     "execution_count": 52,
     "metadata": {},
     "output_type": "execute_result"
    }
   ],
   "source": [
    "df.train[0:8][0]"
   ]
  },
  {
   "cell_type": "code",
   "execution_count": 53,
   "id": "94931961",
   "metadata": {},
   "outputs": [
    {
     "data": {
      "text/plain": [
       "b'microryzomys_minutus'"
      ]
     },
     "execution_count": 53,
     "metadata": {},
     "output_type": "execute_result"
    }
   ],
   "source": [
    "df.train[0:8][0][0]"
   ]
  },
  {
   "cell_type": "code",
   "execution_count": 61,
   "id": "d8fff53f",
   "metadata": {},
   "outputs": [
    {
     "data": {
      "text/plain": [
       "array([(b'microryzomys_minutus', -64.7   , -17.85   ),\n",
       "       (b'microryzomys_minutus', -67.8333, -16.3333 ),\n",
       "       (b'microryzomys_minutus', -67.8833, -16.3    ), ...,\n",
       "       (b'microryzomys_minutus_9', -78.4667,  -0.3    ),\n",
       "       (b'microryzomys_minutus_9', -77.8167,   0.6    ),\n",
       "       (b'microryzomys_minutus_9', -75.3833,   4.96667)],\n",
       "      dtype=[('species', 'S22'), ('dd long', '<f4'), ('dd lat', '<f4')])"
      ]
     },
     "execution_count": 61,
     "metadata": {},
     "output_type": "execute_result"
    }
   ],
   "source": [
    "# trainの中身　species, ddlong ddlatの3つに分かれている\n",
    "df[\"train\"]"
   ]
  },
  {
   "cell_type": "code",
   "execution_count": 59,
   "id": "4d8ba020",
   "metadata": {},
   "outputs": [
    {
     "data": {
      "text/plain": [
       "array([-17.85   , -16.3333 , -16.3    , ...,  -0.3    ,   0.6    ,\n",
       "         4.96667], dtype=float32)"
      ]
     },
     "execution_count": 59,
     "metadata": {},
     "output_type": "execute_result"
    }
   ],
   "source": [
    "df[\"train\"][\"dd lat\"]"
   ]
  },
  {
   "cell_type": "code",
   "execution_count": 60,
   "id": "4c1d6bae",
   "metadata": {},
   "outputs": [
    {
     "data": {
      "text/plain": [
       "1624"
      ]
     },
     "execution_count": 60,
     "metadata": {},
     "output_type": "execute_result"
    }
   ],
   "source": [
    "# dd latの中身　全部で1624\n",
    "len(df[\"train\"][\"dd lat\"])"
   ]
  },
  {
   "cell_type": "code",
   "execution_count": null,
   "id": "4442a1c2",
   "metadata": {},
   "outputs": [],
   "source": []
  },
  {
   "cell_type": "code",
   "execution_count": 58,
   "id": "4be836f2",
   "metadata": {
    "scrolled": true
   },
   "outputs": [
    {
     "data": {
      "text/plain": [
       "array([-17.85    , -16.3333  , -16.3     , -16.2667  , -15.9     ,\n",
       "       -13.5     , -13.1667  , -13.1167  , -12.8833  , -12.7833  ,\n",
       "       -11.4167  , -11.2667  , -10.4667  ,  -9.9167  ,  -9.7     ,\n",
       "        -9.7     ,  -6.9     ,  -6.63333 ,  -6.18333 ,  -6.11667 ,\n",
       "        -5.88333 ,  -5.5     ,  -5.4     ,  -5.11667 ,  -3.66667 ,\n",
       "        -3.63333 ,  -2.8     ,  -2.28333 ,  -1.45    ,  -1.4     ,\n",
       "        -1.36667 ,  -0.45    ,  -0.36667 ,  -0.21667 ,  -0.1     ,\n",
       "        -0.05    ,   0.116667,   0.116667,   0.15    ,   0.2     ,\n",
       "         1.916667,   1.95    ,   1.95    ,   2.483333,   2.533333,\n",
       "         2.583333,   2.666667,   2.666667,   4.35    ,   4.433333,\n",
       "         4.566667,   4.583333,   4.6     ,   4.633333,   4.75    ,\n",
       "         4.85    ,   4.866667,   6.166667,   6.466667,   7.083333,\n",
       "         7.45    ,   8.6     ,   8.6     ,   8.6     ,   8.633333,\n",
       "         8.75    ,   8.8     ,   8.833333,   8.983333,   9.35    ,\n",
       "        10.11667 ,  10.2     ,  10.43333 ,  10.55    ,  10.71667 ,\n",
       "        10.91667 ,  -6.75    ,  -3.41667 ,  -2.85    ,  -2.48333 ,\n",
       "        -2.4     ,  -1.3     ,  -0.36667 ,  -0.3     ,  -0.16667 ,\n",
       "         0.13333 ,   0.6     ,   4.96667 , -10.3833  , -10.3833  ,\n",
       "       -16.8     , -17.45    , -17.4     , -16.      , -17.8     ,\n",
       "        -2.6     ,  -3.7     ,  -3.1333  ,  -0.5167  ,  -3.1333  ,\n",
       "        -3.8333  , -19.3333  ,  -3.8333  ,  -1.      ,  -1.9167  ,\n",
       "        -1.7     ,  -2.75    ,  -3.6667  ,  -2.8333  ,  -2.4333  ,\n",
       "        -2.4333  ,  -3.0833  ,  -3.45    ,  -2.6833  ,  -2.25    ,\n",
       "        -2.5833  , -23.45    ,  -4.15    ,   7.0167  ,   6.25    ,\n",
       "         8.1     ,   7.35    ,   9.9667  ,  10.3     ,  10.15    ,\n",
       "         5.1     ,   7.1167  ,   5.7     ,   5.05    ,   7.6667  ,\n",
       "         8.0167  ,   8.2833  ,   9.1167  ,   7.85    ,   4.5833  ,\n",
       "         3.8667  ,  12.35    ,   4.15    ,   1.6833  ,   8.5     ,\n",
       "         7.9     ,  -0.2     ,   0.4667  ,   7.1667  ,   9.3     ,\n",
       "         9.5     ,   4.      ,   3.6833  ,  10.3333  ,   9.8833  ,\n",
       "        10.6333  ,   9.9167  ,   8.95    ,  -3.7167  ,   0.3333  ,\n",
       "        -1.5333  ,  -0.4667  ,  -0.7     ,  -1.4833  ,  -0.25    ,\n",
       "        13.1833  ,  10.9333  ,  13.95    ,  12.15    ,  12.15    ,\n",
       "         9.3     ,   9.45    ,   8.9333  ,   9.6     ,   9.1833  ,\n",
       "         9.1667  ,   9.25    ,   9.25    ,   9.2167  ,   9.2833  ,\n",
       "         8.1667  ,   8.      ,   8.1     ,   8.1333  ,   7.9667  ,\n",
       "         7.9833  ,   8.95    ,   9.15    ,   9.2333  ,   8.8667  ,\n",
       "         8.9     ,  -4.65    ,  -2.3667  ,  -3.7667  ,  -4.8333  ,\n",
       "        -3.3167  ,  -3.4333  ,  -3.4667  ,  -4.7     ,  -6.7333  ,\n",
       "        -5.8333  ,  -8.3833  ,   3.1667  ,   3.0833  ,   5.3     ,\n",
       "        10.3667  ,  10.5333  ,  10.3667  ,   9.15    , -10.3833  ,\n",
       "       -16.8     , -17.4     , -17.8     ,  -2.6     ,  -3.7     ,\n",
       "        -3.1333  ,  -0.5167  ,  -3.1333  ,  -3.8333  , -19.3333  ,\n",
       "        -1.      ,  -1.7     ,  -2.75    ,  -3.6667  ,  -2.8333  ,\n",
       "        -2.4333  ,  -2.4333  ,  -3.0833  ,  -2.6833  ,  -2.5833  ,\n",
       "        -4.15    ,   6.25    ,   9.9667  ,  10.15    ,   5.1     ,\n",
       "         5.05    ,   7.6667  ,   8.0167  ,   7.85    ,   3.8667  ,\n",
       "        12.35    ,   1.6833  ,   8.5     ,  -0.2     ,   0.4667  ,\n",
       "         9.3     ,   9.5     ,   3.6833  ,  10.3333  ,   9.8833  ,\n",
       "        10.6333  ,   9.9167  ,  -3.7167  ,  -0.4667  ,  -0.7     ,\n",
       "        -1.4833  ,  -0.25    ,  10.9333  ,  13.95    ,  12.15    ,\n",
       "        12.15    ,   9.3     ,   9.45    ,   9.6     ,   9.25    ,\n",
       "         9.2167  ,   9.2833  ,   8.      ,   8.1     ,   8.1333  ,\n",
       "         7.9667  ,   7.9833  ,   9.15    ,   8.8667  ,  -4.65    ,\n",
       "        -2.3667  ,  -3.7667  ,  -4.8333  ,  -3.4333  ,  -3.4667  ,\n",
       "        -4.7     ,  -6.7333  ,  -8.3833  ,   3.1667  ,   3.0833  ,\n",
       "         5.3     ,  10.3667  ,  10.5333  ,  10.3667  ,   9.15    ,\n",
       "       -17.85    , -16.3333  , -16.3     , -16.2667  , -15.9     ,\n",
       "       -13.5     , -12.8833  , -12.7833  , -11.4167  , -11.2667  ,\n",
       "        -9.9167  ,  -9.7     ,  -9.7     ,  -6.9     ,  -6.63333 ],\n",
       "      dtype=float32)"
      ]
     },
     "execution_count": 58,
     "metadata": {},
     "output_type": "execute_result"
    }
   ],
   "source": [
    "df[\"train\"][\"dd lat\"][0:300]"
   ]
  },
  {
   "cell_type": "code",
   "execution_count": 118,
   "id": "f6fc69bd",
   "metadata": {},
   "outputs": [],
   "source": [
    "# dd lat と dd long を1つの配列にまとめ、vstack()で積み重ね(longが下)、転置している\n",
    "Xtrain = np.vstack([df[\"train\"][\"dd lat\"],df[\"train\"][\"dd long\"]]).T"
   ]
  },
  {
   "cell_type": "code",
   "execution_count": null,
   "id": "4e0b3fbe",
   "metadata": {},
   "outputs": [],
   "source": []
  },
  {
   "cell_type": "code",
   "execution_count": 98,
   "id": "31864fcc",
   "metadata": {},
   "outputs": [
    {
     "data": {
      "text/plain": [
       "array([[-17.85   , -64.7    ],\n",
       "       [-16.3333 , -67.8333 ],\n",
       "       [-16.3    , -67.8833 ],\n",
       "       ...,\n",
       "       [ -0.3    , -78.4667 ],\n",
       "       [  0.6    , -77.8167 ],\n",
       "       [  4.96667, -75.3833 ]], dtype=float32)"
      ]
     },
     "execution_count": 98,
     "metadata": {},
     "output_type": "execute_result"
    }
   ],
   "source": [
    "Xtrain"
   ]
  },
  {
   "cell_type": "code",
   "execution_count": 109,
   "id": "fb4fe7b7",
   "metadata": {},
   "outputs": [],
   "source": [
    "# speciesの列をforで回し、中身の文字列をasciiコードに直したうえで、文字のはじめがmicroで始まっているか確認。\n",
    "# 正しければtrueとなりint変換で1、正しくなければ0が格納される\n",
    "Ytrain = np.array([d.decode(\"ascii\").startswith(\"micro\") for d in df[\"train\"][\"species\"]], dtype=\"int\")"
   ]
  },
  {
   "cell_type": "code",
   "execution_count": 178,
   "id": "f5061856",
   "metadata": {},
   "outputs": [
    {
     "data": {
      "text/plain": [
       "array([1, 1, 1, ..., 1, 1, 1])"
      ]
     },
     "execution_count": 178,
     "metadata": {},
     "output_type": "execute_result"
    }
   ],
   "source": [
    "Ytrain"
   ]
  },
  {
   "cell_type": "code",
   "execution_count": 119,
   "id": "c41adc13",
   "metadata": {},
   "outputs": [],
   "source": [
    "# 経度と緯度をラジアンに変換する\n",
    "Xtrain *= np.pi/180.0"
   ]
  },
  {
   "cell_type": "code",
   "execution_count": 120,
   "id": "732f0cca",
   "metadata": {},
   "outputs": [
    {
     "data": {
      "text/plain": [
       "array([[-0.3115413 , -1.129228  ],\n",
       "       [-0.28506985, -1.1839144 ],\n",
       "       [-0.28448865, -1.1847872 ],\n",
       "       ...,\n",
       "       [-0.00523599, -1.3695022 ],\n",
       "       [ 0.01047198, -1.3581576 ],\n",
       "       [ 0.08668474, -1.3156868 ]], dtype=float32)"
      ]
     },
     "execution_count": 120,
     "metadata": {},
     "output_type": "execute_result"
    }
   ],
   "source": [
    "Xtrain"
   ]
  },
  {
   "cell_type": "code",
   "execution_count": 122,
   "id": "4618c168",
   "metadata": {},
   "outputs": [
    {
     "data": {
      "text/plain": [
       "0.05"
      ]
     },
     "execution_count": 122,
     "metadata": {},
     "output_type": "execute_result"
    }
   ],
   "source": [
    "df.grid_size"
   ]
  },
  {
   "cell_type": "code",
   "execution_count": 133,
   "id": "9421c0df",
   "metadata": {},
   "outputs": [],
   "source": [
    "xmin = df.x_left_lower_corner + df.grid_size # グラフのx軸の最小を定める変数。-94.8 + 0.05\n",
    "xmax = xmin + (df.Nx * df.grid_size) # x軸の最小値に(緯度の数 * グリッドのサイズ)を足している。つまりx軸の最大値\n",
    "\n",
    "ymin = df.y_left_lower_corner + df.grid_size # グラフのx軸の最小を定める変数。-94.8 + 0.05\n",
    "ymax = ymin + (df.Ny * df.grid_size) # x軸の最小値に(緯度の数 * グリッドのサイズ)を足している。つまりx軸の最大値\n",
    "\n",
    "xgrid = np.arange(xmin, xmax, df.grid_size)  # grid_size(0.05)区切りの配列を作る\n",
    "ygrid = np.arange(ymin, ymax, df.grid_size)\n",
    "X, Y = np.meshgrid(xgrid[::5], ygrid[::5][::-1]) # 5つ飛ばし\n",
    "\n"
   ]
  },
  {
   "cell_type": "code",
   "execution_count": 142,
   "id": "6dc73b7d",
   "metadata": {},
   "outputs": [
    {
     "data": {
      "text/plain": [
       "array([[ 23.5 ,  23.5 ,  23.5 , ...,  23.5 ,  23.5 ,  23.5 ],\n",
       "       [ 22.25,  22.25,  22.25, ...,  22.25,  22.25,  22.25],\n",
       "       [ 21.  ,  21.  ,  21.  , ...,  21.  ,  21.  ,  21.  ],\n",
       "       ...,\n",
       "       [-52.75, -52.75, -52.75, ..., -52.75, -52.75, -52.75],\n",
       "       [-54.  , -54.  , -54.  , ..., -54.  , -54.  , -54.  ],\n",
       "       [-55.25, -55.25, -55.25, ..., -55.25, -55.25, -55.25]])"
      ]
     },
     "execution_count": 142,
     "metadata": {},
     "output_type": "execute_result"
    }
   ],
   "source": [
    "Y[::5]"
   ]
  },
  {
   "cell_type": "code",
   "execution_count": 140,
   "id": "8c599d0f",
   "metadata": {},
   "outputs": [
    {
     "data": {
      "text/plain": [
       "array([-94.75, -94.7 , -94.65, -94.6 , -94.55, -94.5 , -94.45, -94.4 ,\n",
       "       -94.35, -94.3 , -94.25, -94.2 , -94.15, -94.1 , -94.05, -94.  ,\n",
       "       -93.95, -93.9 , -93.85, -93.8 , -93.75, -93.7 , -93.65, -93.6 ,\n",
       "       -93.55, -93.5 , -93.45, -93.4 , -93.35, -93.3 , -93.25, -93.2 ,\n",
       "       -93.15, -93.1 , -93.05, -93.  , -92.95, -92.9 , -92.85, -92.8 ,\n",
       "       -92.75, -92.7 , -92.65, -92.6 , -92.55, -92.5 , -92.45, -92.4 ,\n",
       "       -92.35, -92.3 , -92.25, -92.2 , -92.15, -92.1 , -92.05, -92.  ,\n",
       "       -91.95, -91.9 , -91.85, -91.8 , -91.75, -91.7 , -91.65, -91.6 ,\n",
       "       -91.55, -91.5 , -91.45, -91.4 , -91.35, -91.3 , -91.25, -91.2 ,\n",
       "       -91.15, -91.1 , -91.05, -91.  , -90.95, -90.9 , -90.85, -90.8 ,\n",
       "       -90.75, -90.7 , -90.65, -90.6 , -90.55, -90.5 , -90.45, -90.4 ,\n",
       "       -90.35, -90.3 , -90.25, -90.2 , -90.15, -90.1 , -90.05, -90.  ,\n",
       "       -89.95, -89.9 , -89.85, -89.8 ])"
      ]
     },
     "execution_count": 140,
     "metadata": {},
     "output_type": "execute_result"
    }
   ],
   "source": [
    "xgrid[:100]"
   ]
  },
  {
   "cell_type": "code",
   "execution_count": null,
   "id": "dba792e7",
   "metadata": {},
   "outputs": [],
   "source": []
  },
  {
   "cell_type": "code",
   "execution_count": null,
   "id": "45f6730f",
   "metadata": {},
   "outputs": [],
   "source": []
  },
  {
   "cell_type": "code",
   "execution_count": 145,
   "id": "6711f412",
   "metadata": {},
   "outputs": [
    {
     "data": {
      "text/plain": [
       "319"
      ]
     },
     "execution_count": 145,
     "metadata": {},
     "output_type": "execute_result"
    }
   ],
   "source": [
    "len(df.coverages[6][::5, ::5])"
   ]
  },
  {
   "cell_type": "code",
   "execution_count": 172,
   "id": "c82c3450",
   "metadata": {},
   "outputs": [],
   "source": [
    "land_reference = df.coverages[6][::5, ::5]"
   ]
  },
  {
   "cell_type": "code",
   "execution_count": 196,
   "id": "5ad3cd7b",
   "metadata": {},
   "outputs": [],
   "source": [
    "# -9999より大きい(つまり欠損値を除いた)値ならTrueにし、1次元の配列に直す\n",
    "land_mask = (land_reference > -9999).ravel()"
   ]
  },
  {
   "cell_type": "code",
   "execution_count": 197,
   "id": "db457888",
   "metadata": {
    "scrolled": true
   },
   "outputs": [
    {
     "data": {
      "text/plain": [
       "array([False, False, False, ..., False, False, False])"
      ]
     },
     "execution_count": 197,
     "metadata": {},
     "output_type": "execute_result"
    }
   ],
   "source": [
    "land_mask"
   ]
  },
  {
   "cell_type": "code",
   "execution_count": 198,
   "id": "e35a9a7d",
   "metadata": {
    "scrolled": true
   },
   "outputs": [
    {
     "data": {
      "text/plain": [
       "array([False, False, False, False, False, False, False, False, False,\n",
       "       False, False, False, False, False, False, False, False, False,\n",
       "       False, False, False, False, False, False, False, False, False,\n",
       "       False, False, False, False, False, False, False, False, False,\n",
       "       False, False, False, False, False, False, False, False, False,\n",
       "       False, False, False, False, False, False, False, False, False,\n",
       "       False, False, False, False, False, False, False, False, False,\n",
       "       False, False, False, False, False,  True,  True, False, False,\n",
       "       False, False,  True,  True,  True,  True,  True,  True, False,\n",
       "       False, False, False, False, False, False, False, False, False,\n",
       "       False, False, False, False, False, False, False, False, False,\n",
       "       False, False, False, False, False, False, False, False, False,\n",
       "       False, False, False, False, False, False, False, False, False,\n",
       "       False, False, False, False, False, False, False, False, False,\n",
       "       False, False, False, False, False, False, False, False, False,\n",
       "       False, False, False, False, False, False, False, False, False,\n",
       "       False, False, False, False, False, False, False, False, False,\n",
       "       False, False, False, False, False, False, False, False, False,\n",
       "       False, False, False, False, False, False, False, False, False,\n",
       "       False, False, False, False, False, False, False, False, False,\n",
       "       False, False, False, False, False, False, False, False, False,\n",
       "       False, False, False, False, False, False, False, False, False,\n",
       "       False, False, False, False, False, False, False, False, False,\n",
       "       False, False, False, False, False, False, False, False, False,\n",
       "       False, False, False, False, False, False, False, False, False,\n",
       "       False, False, False, False, False, False, False, False, False,\n",
       "       False, False, False, False, False, False, False, False, False,\n",
       "       False, False, False, False, False, False, False, False, False,\n",
       "       False, False, False, False, False, False, False, False, False,\n",
       "       False, False, False, False, False, False, False, False, False,\n",
       "       False, False, False, False, False, False, False, False, False,\n",
       "       False, False, False, False, False, False, False, False, False,\n",
       "       False, False, False, False, False,  True,  True,  True,  True,\n",
       "        True,  True,  True])"
      ]
     },
     "execution_count": 198,
     "metadata": {},
     "output_type": "execute_result"
    }
   ],
   "source": [
    "land_mask[:300]"
   ]
  },
  {
   "cell_type": "code",
   "execution_count": 177,
   "id": "04b96357",
   "metadata": {},
   "outputs": [
    {
     "data": {
      "text/plain": [
       "array([[-94.75, -94.5 , -94.25, ..., -34.75, -34.5 , -34.25],\n",
       "       [-94.75, -94.5 , -94.25, ..., -34.75, -34.5 , -34.25],\n",
       "       [-94.75, -94.5 , -94.25, ..., -34.75, -34.5 , -34.25],\n",
       "       ...,\n",
       "       [-94.75, -94.5 , -94.25, ..., -34.75, -34.5 , -34.25],\n",
       "       [-94.75, -94.5 , -94.25, ..., -34.75, -34.5 , -34.25],\n",
       "       [-94.75, -94.5 , -94.25, ..., -34.75, -34.5 , -34.25]])"
      ]
     },
     "execution_count": 177,
     "metadata": {},
     "output_type": "execute_result"
    }
   ],
   "source": [
    "X"
   ]
  },
  {
   "cell_type": "code",
   "execution_count": 156,
   "id": "39f22ef2",
   "metadata": {},
   "outputs": [
    {
     "data": {
      "text/plain": [
       "319"
      ]
     },
     "execution_count": 156,
     "metadata": {},
     "output_type": "execute_result"
    }
   ],
   "source": [
    "len(X)"
   ]
  },
  {
   "cell_type": "code",
   "execution_count": 158,
   "id": "b9d2e0c7",
   "metadata": {},
   "outputs": [
    {
     "data": {
      "text/plain": [
       "243"
      ]
     },
     "execution_count": 158,
     "metadata": {},
     "output_type": "execute_result"
    }
   ],
   "source": [
    "len(X[1])"
   ]
  },
  {
   "cell_type": "code",
   "execution_count": 154,
   "id": "2ac98730",
   "metadata": {},
   "outputs": [
    {
     "data": {
      "text/plain": [
       "array([-94.75, -94.5 , -94.25, ..., -34.75, -34.5 , -34.25])"
      ]
     },
     "execution_count": 154,
     "metadata": {},
     "output_type": "execute_result"
    }
   ],
   "source": [
    "X.ravel()"
   ]
  },
  {
   "cell_type": "code",
   "execution_count": 159,
   "id": "3c167634",
   "metadata": {},
   "outputs": [
    {
     "data": {
      "text/plain": [
       "77517"
      ]
     },
     "execution_count": 159,
     "metadata": {},
     "output_type": "execute_result"
    }
   ],
   "source": [
    "len(X.ravel())"
   ]
  },
  {
   "cell_type": "code",
   "execution_count": 199,
   "id": "35bbde55",
   "metadata": {
    "scrolled": true
   },
   "outputs": [
    {
     "data": {
      "text/plain": [
       "array([[ 23.5 , -94.75],\n",
       "       [ 23.5 , -94.5 ],\n",
       "       [ 23.5 , -94.25],\n",
       "       ...,\n",
       "       [-56.  , -34.75],\n",
       "       [-56.  , -34.5 ],\n",
       "       [-56.  , -34.25]])"
      ]
     },
     "execution_count": 199,
     "metadata": {},
     "output_type": "execute_result"
    }
   ],
   "source": [
    "#xy = np.vstack([Y.ravel(), X,ravel()]).T\n",
    "\n",
    "# YとXをそれぞれ1次元配列にしたものを組み合わせて1つの行列にしている\n",
    "xy = np.vstack([Y.ravel(), X.ravel()]).T\n",
    "\n",
    "xy"
   ]
  },
  {
   "cell_type": "code",
   "execution_count": 201,
   "id": "0ae7240b",
   "metadata": {},
   "outputs": [
    {
     "data": {
      "text/plain": [
       "array([[ 23.5 , -77.75],\n",
       "       [ 23.5 , -77.5 ],\n",
       "       [ 23.5 , -76.25],\n",
       "       ...,\n",
       "       [-56.  , -67.5 ],\n",
       "       [-56.  , -67.25],\n",
       "       [-56.  , -67.  ]])"
      ]
     },
     "execution_count": 201,
     "metadata": {},
     "output_type": "execute_result"
    }
   ],
   "source": [
    "# land_maskがTrueになっている配列番号だけ表示する\n",
    "xy = xy[land_mask]\n",
    "xy"
   ]
  },
  {
   "cell_type": "code",
   "execution_count": 202,
   "id": "3b1d4e22",
   "metadata": {},
   "outputs": [
    {
     "data": {
      "text/plain": [
       "array([[ 0.41015237, -1.35699349],\n",
       "       [ 0.41015237, -1.35263017],\n",
       "       [ 0.41015237, -1.33081355],\n",
       "       ...,\n",
       "       [-0.97738438, -1.17809725],\n",
       "       [-0.97738438, -1.17373392],\n",
       "       [-0.97738438, -1.1693706 ]])"
      ]
     },
     "execution_count": 202,
     "metadata": {},
     "output_type": "execute_result"
    }
   ],
   "source": [
    "xy *= np.pi/180 # ラジアンに直す\n",
    "xy"
   ]
  },
  {
   "cell_type": "code",
   "execution_count": 275,
   "id": "b690e1ef",
   "metadata": {},
   "outputs": [
    {
     "data": {
      "image/png": "[encoded data removed]",
      "text/plain": [
       "<Figure size 640x480 with 2 Axes>"
      ]
     },
     "metadata": {},
     "output_type": "display_data"
    }
   ],
   "source": [
    "fig = plt.figure()\n",
    "fig.subplots_adjust(left=0.05, right=0.95, wspace=0.5)\n",
    "\n",
    "for i in range(2):\n",
    "    plt.subplot(1, 2, i+1)  # 縦1マス, 横2マス　合計1 * 2 = 2個分のスペースを用意し,それぞれ描写する\n",
    "    \n",
    "    # カーネル密度推定器を作成\n",
    "    kde = KernelDensity(bandwidth=0.04, metric=\"haversine\", kernel=\"gaussian\", algorithm=\"ball_tree\")\n",
    "    kde.fit(Xtrain[Ytrain == i])\n",
    "    \n",
    "    # 陸地だけを評価する -9999 は海洋を示す\n",
    "    # 1 * land_maskの行数　の行列を作り、それをint型の-9999で埋めた配列をZとする\n",
    "    Z = np.full(land_mask.shape[0], -9999, dtype=\"int\")\n",
    "    \n",
    "    # land_maskのTrueになっている箇所だけに代入\n",
    "    \n",
    "    Z[land_mask] = np.exp(kde.score_samples(xy))\n",
    "\n",
    "    # Xと同じ行数列数に直す\n",
    "    Z = Z.reshape(X.shape)\n",
    "    \n",
    "    # 0からZの最大値までを25間隔のベクトルを作る\n",
    "    levels = np.linspace(0, Z.max(), 25)\n",
    "    \n",
    "    plt.contourf(X, Y, Z, levels=levels, cmap=plt.cm.Blues_r)\n",
    "    \n",
    "    m = Basemap(\n",
    "        #projection=\"cyl\",\n",
    "        llcrnrlat=Y.min(),  # lower left(左下) corner(角) 緯度\n",
    "        urcrnrlat=Y.max(),  # upper right(右上)　緯度\n",
    "        llcrnrlon=X.min(),  # lower left(左下) corner(角) 経度\n",
    "        urcrnrlon=X.max(),\n",
    "        resolution=\"c\",\n",
    "    )\n",
    "    m.drawcoastlines()\n",
    "    m.drawcountries()\n",
    "    plt.title(species_names[i])\n",
    "\n",
    "plt.show()\n",
    "    \n",
    "    \n",
    "    "
   ]
  },
  {
   "cell_type": "code",
   "execution_count": 264,
   "id": "33c2d894",
   "metadata": {
    "scrolled": true
   },
   "outputs": [
    {
     "data": {
      "text/plain": [
       "array([[-9999, -9999, -9999, ..., -9999, -9999, -9999],\n",
       "       [-9999, -9999, -9999, ..., -9999, -9999, -9999],\n",
       "       [-9999, -9999, -9999, ..., -9999, -9999, -9999],\n",
       "       ...,\n",
       "       [-9999, -9999, -9999, ..., -9999, -9999, -9999],\n",
       "       [-9999, -9999, -9999, ..., -9999, -9999, -9999],\n",
       "       [-9999, -9999, -9999, ..., -9999, -9999, -9999]])"
      ]
     },
     "execution_count": 264,
     "metadata": {},
     "output_type": "execute_result"
    }
   ],
   "source": [
    "Z.reshape(X.shape)"
   ]
  },
  {
   "cell_type": "code",
   "execution_count": 267,
   "id": "06c9db16",
   "metadata": {},
   "outputs": [
    {
     "data": {
      "text/plain": [
       "27"
      ]
     },
     "execution_count": 267,
     "metadata": {},
     "output_type": "execute_result"
    }
   ],
   "source": [
    "Z.max()"
   ]
  },
  {
   "cell_type": "code",
   "execution_count": null,
   "id": "94db8967",
   "metadata": {},
   "outputs": [],
   "source": []
  },
  {
   "cell_type": "code",
   "execution_count": null,
   "id": "61cbc4d5",
   "metadata": {},
   "outputs": [],
   "source": []
  },
  {
   "cell_type": "code",
   "execution_count": 265,
   "id": "e0fae140",
   "metadata": {},
   "outputs": [
    {
     "data": {
      "text/plain": [
       "(319, 243)"
      ]
     },
     "execution_count": 265,
     "metadata": {},
     "output_type": "execute_result"
    }
   ],
   "source": [
    "X.shape"
   ]
  },
  {
   "cell_type": "code",
   "execution_count": null,
   "id": "f3f73ce3",
   "metadata": {},
   "outputs": [],
   "source": []
  },
  {
   "cell_type": "code",
   "execution_count": 263,
   "id": "ef43b3ab",
   "metadata": {},
   "outputs": [
    {
     "data": {
      "text/plain": [
       "array([9.80661799e-08, 1.16882478e-07, 2.39337279e-07, ...,\n",
       "       5.65481680e-61, 6.08327182e-61, 6.49968471e-61])"
      ]
     },
     "execution_count": 263,
     "metadata": {},
     "output_type": "execute_result"
    }
   ],
   "source": [
    "np.exp(kde.score_samples(xy))"
   ]
  },
  {
   "cell_type": "code",
   "execution_count": null,
   "id": "56167b94",
   "metadata": {},
   "outputs": [],
   "source": []
  },
  {
   "cell_type": "code",
   "execution_count": 236,
   "id": "9de598c9",
   "metadata": {},
   "outputs": [
    {
     "data": {
      "text/plain": [
       "array([False, False, False, ..., False, False, False])"
      ]
     },
     "execution_count": 236,
     "metadata": {},
     "output_type": "execute_result"
    }
   ],
   "source": [
    "\n",
    "land_mask\n"
   ]
  },
  {
   "cell_type": "code",
   "execution_count": 249,
   "id": "67aa017f",
   "metadata": {},
   "outputs": [
    {
     "data": {
      "text/plain": [
       "array([30, 50])"
      ]
     },
     "execution_count": 249,
     "metadata": {},
     "output_type": "execute_result"
    }
   ],
   "source": [
    "#l = [10, 30, 50]\n",
    "np.array([10, 20, 30])\n",
    "lb = [False, True, True]\n",
    "l = np.array(l)\n",
    "l[lb]"
   ]
  },
  {
   "cell_type": "code",
   "execution_count": 243,
   "id": "28975cd8",
   "metadata": {},
   "outputs": [
    {
     "data": {
      "text/plain": [
       "(28008,)"
      ]
     },
     "execution_count": 243,
     "metadata": {},
     "output_type": "execute_result"
    }
   ],
   "source": [
    "Z[land_mask].shape"
   ]
  },
  {
   "cell_type": "code",
   "execution_count": 244,
   "id": "86c213f7",
   "metadata": {},
   "outputs": [
    {
     "data": {
      "text/plain": [
       "array([-9999, -9999, -9999, ..., -9999, -9999, -9999])"
      ]
     },
     "execution_count": 244,
     "metadata": {},
     "output_type": "execute_result"
    }
   ],
   "source": [
    "Z"
   ]
  },
  {
   "cell_type": "code",
   "execution_count": null,
   "id": "a6f20c21",
   "metadata": {},
   "outputs": [],
   "source": []
  },
  {
   "cell_type": "code",
   "execution_count": 253,
   "id": "c4910ac6",
   "metadata": {},
   "outputs": [
    {
     "data": {
      "text/plain": [
       "array([2.  , 2.25, 2.5 , 2.75, 3.  ])"
      ]
     },
     "execution_count": 253,
     "metadata": {},
     "output_type": "execute_result"
    }
   ],
   "source": [
    "np.linspace(2.0, 3.0, num=5)"
   ]
  },
  {
   "cell_type": "code",
   "execution_count": 261,
   "id": "94da35a5",
   "metadata": {},
   "outputs": [
    {
     "name": "stdout",
     "output_type": "stream",
     "text": [
      "[0. 0. 0.]\n",
      "[[0. 0. 0. 0. 0.]\n",
      " [0. 0. 0. 0. 0.]]\n"
     ]
    }
   ],
   "source": [
    "print(np.zeros(3))\n",
    "print(np.zeros((2, 5)))"
   ]
  },
  {
   "cell_type": "code",
   "execution_count": null,
   "id": "75a2f9d0",
   "metadata": {},
   "outputs": [],
   "source": []
  },
  {
   "cell_type": "code",
   "execution_count": null,
   "id": "e88497e7",
   "metadata": {},
   "outputs": [],
   "source": []
  },
  {
   "cell_type": "code",
   "execution_count": null,
   "id": "222cd1db",
   "metadata": {},
   "outputs": [],
   "source": []
  },
  {
   "cell_type": "code",
   "execution_count": null,
   "id": "6af39e10",
   "metadata": {},
   "outputs": [],
   "source": []
  },
  {
   "cell_type": "code",
   "execution_count": 235,
   "id": "fdfa3bb7",
   "metadata": {},
   "outputs": [
    {
     "data": {
      "text/plain": [
       "array([4, 4, 4])"
      ]
     },
     "execution_count": 235,
     "metadata": {},
     "output_type": "execute_result"
    }
   ],
   "source": [
    "np.full(3, 4)"
   ]
  },
  {
   "cell_type": "code",
   "execution_count": 233,
   "id": "04ab1222",
   "metadata": {},
   "outputs": [
    {
     "data": {
      "text/plain": [
       "array([[1, 1, 1],\n",
       "       [1, 1, 1]])"
      ]
     },
     "execution_count": 233,
     "metadata": {},
     "output_type": "execute_result"
    }
   ],
   "source": [
    "np.full((2, 3), 1)"
   ]
  },
  {
   "cell_type": "code",
   "execution_count": 234,
   "id": "5ce2545e",
   "metadata": {},
   "outputs": [
    {
     "data": {
      "text/plain": [
       "array([[1, 3, 4, 5, 7],\n",
       "       [1, 3, 4, 5, 7],\n",
       "       [1, 3, 4, 5, 7],\n",
       "       [1, 3, 4, 5, 7]])"
      ]
     },
     "execution_count": 234,
     "metadata": {},
     "output_type": "execute_result"
    }
   ],
   "source": [
    "np.full((4, 5), [1, 3, 4, 5, 7])"
   ]
  },
  {
   "cell_type": "code",
   "execution_count": null,
   "id": "782fc4a5",
   "metadata": {},
   "outputs": [],
   "source": []
  },
  {
   "cell_type": "code",
   "execution_count": 208,
   "id": "2ab4e691",
   "metadata": {},
   "outputs": [
    {
     "data": {
      "text/plain": [
       "array([1, 1, 1, 1, 1, 1, 1, 1, 1, 1, 1, 1, 1, 1, 1, 1, 1, 1, 1, 1, 1, 1,\n",
       "       1, 1, 1, 1, 1, 1, 1, 1, 1, 1, 1, 1, 1, 1, 1, 1, 1, 1, 1, 1, 1, 1,\n",
       "       1, 1, 1, 1, 1, 1, 1, 1, 1, 1, 1, 1, 1, 1, 1, 1, 1, 1, 1, 1, 1, 1,\n",
       "       1, 1, 1, 1, 1, 1, 1, 1, 1, 1, 1, 1, 1, 1, 1, 1, 1, 1, 1, 1, 1, 1,\n",
       "       0, 0, 0, 0, 0, 0, 0, 0, 0, 0, 0, 0, 0, 0, 0, 0, 0, 0, 0, 0, 0, 0,\n",
       "       0, 0, 0, 0, 0, 0, 0, 0, 0, 0, 0, 0, 0, 0, 0, 0, 0, 0, 0, 0, 0, 0,\n",
       "       0, 0, 0, 0, 0, 0, 0, 0, 0, 0, 0, 0, 0, 0, 0, 0, 0, 0, 0, 0, 0, 0,\n",
       "       0, 0, 0, 0, 0, 0, 0, 0, 0, 0, 0, 0, 0, 0, 0, 0, 0, 0, 0, 0, 0, 0,\n",
       "       0, 0, 0, 0, 0, 0, 0, 0, 0, 0, 0, 0, 0, 0, 0, 0, 0, 0, 0, 0, 0, 0,\n",
       "       0, 0, 0, 0, 0, 0, 0, 0, 0, 0, 0, 0, 0, 0, 0, 0, 0, 0, 0, 0, 0, 0,\n",
       "       0, 0, 0, 0, 0, 0, 0, 0, 0, 0, 0, 0, 0, 0, 0, 0, 0, 0, 0, 0, 0, 0,\n",
       "       0, 0, 0, 0, 0, 0, 0, 0, 0, 0, 0, 0, 0, 0, 0, 0, 0, 0, 0, 0, 0, 0,\n",
       "       0, 0, 0, 0, 0, 0, 0, 0, 0, 0, 0, 0, 0, 0, 0, 0, 0, 0, 0, 0, 0, 1,\n",
       "       1, 1, 1, 1, 1, 1, 1, 1, 1, 1, 1, 1, 1, 1])"
      ]
     },
     "execution_count": 208,
     "metadata": {},
     "output_type": "execute_result"
    }
   ],
   "source": [
    "Ytrain[:300]"
   ]
  },
  {
   "cell_type": "code",
   "execution_count": 221,
   "id": "e16b1eeb",
   "metadata": {},
   "outputs": [
    {
     "data": {
      "text/plain": [
       "array([[-0.18122277, -1.1414454 ],\n",
       "       [-0.18122277, -1.1411538 ],\n",
       "       [-0.2932153 , -1.1367905 ],\n",
       "       ...,\n",
       "       [ 0.18093304, -1.1812963 ],\n",
       "       [ 0.18384077, -1.1935138 ],\n",
       "       [ 0.18093304, -1.1664611 ]], dtype=float32)"
      ]
     },
     "execution_count": 221,
     "metadata": {},
     "output_type": "execute_result"
    }
   ],
   "source": [
    "#Xtrain[:300]\n",
    "Xtrain[Ytrain == 0]"
   ]
  },
  {
   "cell_type": "code",
   "execution_count": null,
   "id": "323cdd14",
   "metadata": {},
   "outputs": [],
   "source": [
    "# ここからは試行錯誤\n"
   ]
  },
  {
   "cell_type": "code",
   "execution_count": 166,
   "id": "5f13bfd5",
   "metadata": {},
   "outputs": [
    {
     "data": {
      "text/plain": [
       "array([[ 10,  12,  13],\n",
       "       [222,  90,   9]])"
      ]
     },
     "execution_count": 166,
     "metadata": {},
     "output_type": "execute_result"
    }
   ],
   "source": [
    "ravel_practice = np.array([[10, 12 ,13], [222, 90, 9]])\n",
    "ravel_practice"
   ]
  },
  {
   "cell_type": "code",
   "execution_count": 167,
   "id": "8dc9c85e",
   "metadata": {},
   "outputs": [
    {
     "data": {
      "text/plain": [
       "array([ 10,  12,  13, 222,  90,   9])"
      ]
     },
     "execution_count": 167,
     "metadata": {},
     "output_type": "execute_result"
    }
   ],
   "source": [
    "ravel_practice.ravel()"
   ]
  },
  {
   "cell_type": "code",
   "execution_count": null,
   "id": "387bb5c8",
   "metadata": {},
   "outputs": [],
   "source": []
  },
  {
   "cell_type": "code",
   "execution_count": 110,
   "id": "218f1535",
   "metadata": {},
   "outputs": [
    {
     "data": {
      "text/plain": [
       "True"
      ]
     },
     "execution_count": 110,
     "metadata": {},
     "output_type": "execute_result"
    }
   ],
   "source": [
    "# str.startswith()\n",
    "# return bool\n",
    "\n",
    "txt = \"Hello,welcome\"\n",
    "x = txt.startswith(\"Hello\")\n",
    "x"
   ]
  },
  {
   "cell_type": "code",
   "execution_count": 111,
   "id": "18eea328",
   "metadata": {},
   "outputs": [
    {
     "data": {
      "text/plain": [
       "False"
      ]
     },
     "execution_count": 111,
     "metadata": {},
     "output_type": "execute_result"
    }
   ],
   "source": [
    "txt = \"Hell,welcome\"\n",
    "x = txt.startswith(\"Hello\")\n",
    "x"
   ]
  },
  {
   "cell_type": "code",
   "execution_count": null,
   "id": "c41297eb",
   "metadata": {},
   "outputs": [],
   "source": []
  },
  {
   "cell_type": "code",
   "execution_count": 121,
   "id": "d20cb269",
   "metadata": {},
   "outputs": [
    {
     "data": {
      "text/plain": [
       "array([[10, 12, 14, 16, 18],\n",
       "       [30, 32, 34, 36, 38]])"
      ]
     },
     "execution_count": 121,
     "metadata": {},
     "output_type": "execute_result"
    }
   ],
   "source": [
    "# 上から下に積み重ねていくイメージ\n",
    "np.vstack([np.arange(10, 20, 2), np.arange(30, 40, 2)])"
   ]
  },
  {
   "cell_type": "code",
   "execution_count": null,
   "id": "75ed7eab",
   "metadata": {},
   "outputs": [],
   "source": []
  },
  {
   "cell_type": "code",
   "execution_count": null,
   "id": "30eb1781",
   "metadata": {},
   "outputs": [],
   "source": []
  },
  {
   "cell_type": "code",
   "execution_count": 81,
   "id": "81993781",
   "metadata": {
    "scrolled": false
   },
   "outputs": [
    {
     "data": {
      "text/plain": [
       "array([[[0, 0],\n",
       "        [1, 1],\n",
       "        [2, 2],\n",
       "        [4, 4]],\n",
       "\n",
       "       [[0, 0],\n",
       "        [1, 1],\n",
       "        [2, 2],\n",
       "        [4, 4]],\n",
       "\n",
       "       [[0, 0],\n",
       "        [1, 1],\n",
       "        [2, 2],\n",
       "        [4, 4]]])"
      ]
     },
     "execution_count": 81,
     "metadata": {},
     "output_type": "execute_result"
    }
   ],
   "source": [
    "# numpy.meshgrid \n",
    "# 座標行列を返す　座標ベクトルから\n",
    "# 格子点を作る\n",
    "\n",
    "a = np.array([0, 1, 2, 4])\n",
    "b = np.array([0, 1, 2])\n",
    "c = np.array([0, 1, ])\n",
    "\n",
    "aa, bb, cc = np.meshgrid(a, b, c)\n",
    "aa\n",
    "#bb\n",
    "#cc"
   ]
  },
  {
   "cell_type": "code",
   "execution_count": 83,
   "id": "6793990a",
   "metadata": {},
   "outputs": [],
   "source": []
  },
  {
   "cell_type": "code",
   "execution_count": 93,
   "id": "7c4019a8",
   "metadata": {},
   "outputs": [
    {
     "data": {
      "text/plain": [
       "array([0. , 0.5, 1. , 1.5])"
      ]
     },
     "execution_count": 93,
     "metadata": {},
     "output_type": "execute_result"
    }
   ],
   "source": [
    "arange = np.arange(0, 2, 0.5)\n",
    "arange[0:4]"
   ]
  },
  {
   "cell_type": "code",
   "execution_count": 94,
   "id": "7b9fd104",
   "metadata": {},
   "outputs": [
    {
     "data": {
      "text/plain": [
       "[0.0, 0.5, 1.0, 1.5]"
      ]
     },
     "execution_count": 94,
     "metadata": {},
     "output_type": "execute_result"
    }
   ],
   "source": [
    "list(arange)"
   ]
  },
  {
   "cell_type": "code",
   "execution_count": null,
   "id": "bd79a1e2",
   "metadata": {},
   "outputs": [],
   "source": []
  },
  {
   "cell_type": "code",
   "execution_count": null,
   "id": "db4e75f4",
   "metadata": {},
   "outputs": [],
   "source": []
  }
 ],
 "metadata": {
  "kernelspec": {
   "display_name": "Python 3 (ipykernel)",
   "language": "python",
   "name": "python3"
  },
  "language_info": {
   "codemirror_mode": {
    "name": "ipython",
    "version": 3
   },
   "file_extension": ".py",
   "mimetype": "text/x-python",
   "name": "python",
   "nbconvert_exporter": "python",
   "pygments_lexer": "ipython3",
   "version": "3.10.4"
  }
 },
 "nbformat": 4,
 "nbformat_minor": 5
}
